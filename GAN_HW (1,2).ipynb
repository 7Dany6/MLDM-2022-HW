{
  "cells": [
    {
      "cell_type": "markdown",
      "metadata": {
        "id": "uac6vmLyZif3"
      },
      "source": [
        "<a href=\"https://colab.research.google.com/github/HSE-LAMBDA/MLDM-2022/blob/main/13-GANs/GAN_HW.ipynb\" target=\"_parent\"><img src=\"https://colab.research.google.com/assets/colab-badge.svg\" alt=\"Open In Colab\"/></a>"
      ]
    },
    {
      "cell_type": "markdown",
      "metadata": {
        "id": "mw57Lz9cZigG"
      },
      "source": [
        "### WGAN\n",
        "\n",
        "* Modify snippets below and implement [Wasserstein GAN](https://arxiv.org/abs/1701.07875) with weight clipping. (2 points)\n",
        "\n",
        "* Replace  weight clipping with [gradient penalty](https://arxiv.org/pdf/1704.00028v3.pdf). (2 points)\n",
        "\n",
        "* Add labels into WGAN, performing [conditional generation](https://arxiv.org/pdf/1411.1784.pdf). (2 points) \n",
        "\n",
        "Write a report about experiments and results, add plots and visualizations."
      ]
    },
    {
      "cell_type": "code",
      "execution_count": 1,
      "metadata": {
        "id": "RecXoXEMZigJ"
      },
      "outputs": [],
      "source": [
        "import torch\n",
        "import torch.nn as nn\n",
        "import torch.nn.functional as F\n",
        "import torch.optim as optim\n",
        "from torch.utils.data import DataLoader, Dataset\n",
        "\n",
        "import torchvision\n",
        "import matplotlib.pyplot as plt\n",
        "import numpy as np\n",
        "\n",
        "from torch.autograd import Variable"
      ]
    },
    {
      "cell_type": "markdown",
      "metadata": {
        "id": "BpEHQZ9VZigN"
      },
      "source": [
        "### Creating config object (argparse workaround)"
      ]
    },
    {
      "cell_type": "code",
      "execution_count": 27,
      "metadata": {
        "id": "PMEO35LRZigO"
      },
      "outputs": [],
      "source": [
        "class Config:\n",
        "    pass\n",
        "\n",
        "config = Config()\n",
        "config.mnist_path = None\n",
        "config.batch_size = 16\n",
        "config.num_workers = 3\n",
        "config.num_epochs = 10\n",
        "config.noise_size = 50\n",
        "config.print_freq = 100\n",
        "\n",
        "critic_iterations = 10\n",
        "weight_clip = 0.01\n",
        "lambda_gp = 10"
      ]
    },
    {
      "cell_type": "code",
      "source": [
        "device = torch.device(\"cuda\" if torch.cuda.is_available() else \"cpu\")"
      ],
      "metadata": {
        "id": "8iKlBHHyfJ2w"
      },
      "execution_count": 25,
      "outputs": []
    },
    {
      "cell_type": "markdown",
      "metadata": {
        "id": "8oZWv3QfZigP"
      },
      "source": [
        "### Create dataloder"
      ]
    },
    {
      "cell_type": "code",
      "execution_count": 4,
      "metadata": {
        "colab": {
          "base_uri": "https://localhost:8080/",
          "height": 443,
          "referenced_widgets": [
            "b688ca81aaaf452d9eee99100d0e07f8",
            "6e324b7210684d668f69e00af3d35fc4",
            "ea9bcaaf685744b58260e55cdb72c4f2",
            "b7715fad77954cba8ab56d7862eca624",
            "c1f5d699381347cf818cbeac0c7ab03f",
            "fab59ceb8a6f4f05a9d79d68ab81b93d",
            "dec17872361346f987b4984e4df940e0",
            "367a2b31092b412fb07042e566cadbc1",
            "cf158b6359ad47059a8ea1bd806eeebc",
            "1d2e2b3a32ba4c2b879842e1a45a3f33",
            "2c6a7247e6a644e8b8065a4b71d9ae87",
            "3931785cd8d14220bffae087f2c01660",
            "bd426cbcf7694df2a647e4da5a629625",
            "b0cfd59c89ea4a6ab9a9a3a403e7558f",
            "419c08182fc84dc3a29d2f865c70cfbf",
            "51396c2fca004a0eae1de52ff964673a",
            "4a6734eb3dc84eb4a0060f08d6adac21",
            "2e4a3bfebf384c55be3e462d7377d713",
            "b69d791105da422ab39f06a8dab6bdd9",
            "a712f3bd13224916b6fc5c769b0021ef",
            "048fd4c6c74e4587b6db37db7cb2070a",
            "dfb081b09cc3428c8bb246f3e8fe22a5",
            "97f0f23e37d14c5dabd3926dd2d95546",
            "0b7a646d15624e8b983fbb260d7e420c",
            "7949fe62f233400ca3b4980c5cf5b9dd",
            "56d0e126c92a497a8941fbe5bcde2b98",
            "0aa7d06a2dd9437f89a1fde5218553d7",
            "de3a5ddc29364731851709b170d48589",
            "bd8f25ac2b624dbfabaf54b54420cf8e",
            "13ea30b87c0c474eb460c65f4cc84ea0",
            "74ddd09d86c44d78a8a319bb1c36045d",
            "b68282cbf77d42e999aff4e58c4f7f71",
            "cc1e4b71170645cd9f99e270b163b501",
            "135966498ef9414f88c546ba60f52d5c",
            "e464a6d49388441bb130792760dadbfc",
            "5a69b78e1bfa408c84ff7dbc9b41c2cd",
            "a297305bb19a49b6868da0f85dc36a04",
            "2051d1e1e6ad4cc093ad94f622246dab",
            "630d67fead094666aafefcfe40d037a8",
            "aac4c195bccb4794918711da4a128296",
            "939f5aaf21ea4138880d31dd6d1459af",
            "4341315b4ad74e23a43475c769ca4aaa",
            "04a5e045062845218db58da80c6c5757",
            "cfab83b9d69e48a291d941bb49328108"
          ]
        },
        "id": "4WqNqdKlZigQ",
        "outputId": "4c8296e1-f7f6-454f-bd6b-a0348442173b"
      },
      "outputs": [
        {
          "output_type": "stream",
          "name": "stdout",
          "text": [
            "Downloading http://fashion-mnist.s3-website.eu-central-1.amazonaws.com/train-images-idx3-ubyte.gz\n",
            "Downloading http://fashion-mnist.s3-website.eu-central-1.amazonaws.com/train-images-idx3-ubyte.gz to fashion_mnist/FashionMNIST/raw/train-images-idx3-ubyte.gz\n"
          ]
        },
        {
          "output_type": "display_data",
          "data": {
            "text/plain": [
              "  0%|          | 0/26421880 [00:00<?, ?it/s]"
            ],
            "application/vnd.jupyter.widget-view+json": {
              "version_major": 2,
              "version_minor": 0,
              "model_id": "b688ca81aaaf452d9eee99100d0e07f8"
            }
          },
          "metadata": {}
        },
        {
          "output_type": "stream",
          "name": "stdout",
          "text": [
            "Extracting fashion_mnist/FashionMNIST/raw/train-images-idx3-ubyte.gz to fashion_mnist/FashionMNIST/raw\n",
            "\n",
            "Downloading http://fashion-mnist.s3-website.eu-central-1.amazonaws.com/train-labels-idx1-ubyte.gz\n",
            "Downloading http://fashion-mnist.s3-website.eu-central-1.amazonaws.com/train-labels-idx1-ubyte.gz to fashion_mnist/FashionMNIST/raw/train-labels-idx1-ubyte.gz\n"
          ]
        },
        {
          "output_type": "display_data",
          "data": {
            "text/plain": [
              "  0%|          | 0/29515 [00:00<?, ?it/s]"
            ],
            "application/vnd.jupyter.widget-view+json": {
              "version_major": 2,
              "version_minor": 0,
              "model_id": "3931785cd8d14220bffae087f2c01660"
            }
          },
          "metadata": {}
        },
        {
          "output_type": "stream",
          "name": "stdout",
          "text": [
            "Extracting fashion_mnist/FashionMNIST/raw/train-labels-idx1-ubyte.gz to fashion_mnist/FashionMNIST/raw\n",
            "\n",
            "Downloading http://fashion-mnist.s3-website.eu-central-1.amazonaws.com/t10k-images-idx3-ubyte.gz\n",
            "Downloading http://fashion-mnist.s3-website.eu-central-1.amazonaws.com/t10k-images-idx3-ubyte.gz to fashion_mnist/FashionMNIST/raw/t10k-images-idx3-ubyte.gz\n"
          ]
        },
        {
          "output_type": "display_data",
          "data": {
            "text/plain": [
              "  0%|          | 0/4422102 [00:00<?, ?it/s]"
            ],
            "application/vnd.jupyter.widget-view+json": {
              "version_major": 2,
              "version_minor": 0,
              "model_id": "97f0f23e37d14c5dabd3926dd2d95546"
            }
          },
          "metadata": {}
        },
        {
          "output_type": "stream",
          "name": "stdout",
          "text": [
            "Extracting fashion_mnist/FashionMNIST/raw/t10k-images-idx3-ubyte.gz to fashion_mnist/FashionMNIST/raw\n",
            "\n",
            "Downloading http://fashion-mnist.s3-website.eu-central-1.amazonaws.com/t10k-labels-idx1-ubyte.gz\n",
            "Downloading http://fashion-mnist.s3-website.eu-central-1.amazonaws.com/t10k-labels-idx1-ubyte.gz to fashion_mnist/FashionMNIST/raw/t10k-labels-idx1-ubyte.gz\n"
          ]
        },
        {
          "output_type": "display_data",
          "data": {
            "text/plain": [
              "  0%|          | 0/5148 [00:00<?, ?it/s]"
            ],
            "application/vnd.jupyter.widget-view+json": {
              "version_major": 2,
              "version_minor": 0,
              "model_id": "135966498ef9414f88c546ba60f52d5c"
            }
          },
          "metadata": {}
        },
        {
          "output_type": "stream",
          "name": "stdout",
          "text": [
            "Extracting fashion_mnist/FashionMNIST/raw/t10k-labels-idx1-ubyte.gz to fashion_mnist/FashionMNIST/raw\n",
            "\n"
          ]
        }
      ],
      "source": [
        "train = torchvision.datasets.FashionMNIST(\"fashion_mnist\", train=True, transform=torchvision.transforms.ToTensor(), download=True)"
      ]
    },
    {
      "cell_type": "code",
      "execution_count": 5,
      "metadata": {
        "id": "pBD20rFJZigR"
      },
      "outputs": [],
      "source": [
        "dataloader = DataLoader(train, batch_size=16, shuffle=True)"
      ]
    },
    {
      "cell_type": "code",
      "execution_count": 6,
      "metadata": {
        "colab": {
          "base_uri": "https://localhost:8080/"
        },
        "id": "uDAbFCdcZigS",
        "outputId": "69d30447-cf59-4bc9-af4b-61452fb6cbdc"
      },
      "outputs": [
        {
          "output_type": "execute_result",
          "data": {
            "text/plain": [
              "3750"
            ]
          },
          "metadata": {},
          "execution_count": 6
        }
      ],
      "source": [
        "len(dataloader)"
      ]
    },
    {
      "cell_type": "code",
      "execution_count": 7,
      "metadata": {
        "id": "s50xkBuFZigT"
      },
      "outputs": [],
      "source": [
        "for image, cat in dataloader:\n",
        "    break"
      ]
    },
    {
      "cell_type": "code",
      "execution_count": 8,
      "metadata": {
        "scrolled": true,
        "colab": {
          "base_uri": "https://localhost:8080/"
        },
        "id": "l7plqlbRZigT",
        "outputId": "1856c6d6-26f5-48ed-dd53-c872ed4f7f36"
      },
      "outputs": [
        {
          "output_type": "execute_result",
          "data": {
            "text/plain": [
              "torch.Size([16, 1, 28, 28])"
            ]
          },
          "metadata": {},
          "execution_count": 8
        }
      ],
      "source": [
        "image.size()"
      ]
    },
    {
      "cell_type": "markdown",
      "metadata": {
        "id": "Zuwc1iZCZigU"
      },
      "source": [
        "### Create generator and discriminator"
      ]
    },
    {
      "cell_type": "code",
      "execution_count": 28,
      "metadata": {
        "id": "PrPOFR_pZigU"
      },
      "outputs": [],
      "source": [
        "class Generator(nn.Module):\n",
        "    def __init__(self):\n",
        "        super(Generator, self).__init__()\n",
        "        self.model = nn.Sequential( \n",
        "            nn.Linear(config.noise_size, 200),\n",
        "            nn.ReLU(inplace=True),\n",
        "            nn.Linear(200, 28*28),\n",
        "            nn.Sigmoid())\n",
        "        \n",
        "    def forward(self, x):\n",
        "        return self.model(x)\n",
        "    \n",
        "class Discriminator(nn.Module):\n",
        "    def __init__(self):\n",
        "        super(Discriminator, self).__init__()\n",
        "        self.model = nn.Sequential(\n",
        "            nn.Linear(28*28, 200),\n",
        "            nn.ReLU(inplace=True),\n",
        "            nn.Linear(200, 50),\n",
        "            nn.ReLU(inplace=True),\n",
        "            nn.Linear(50, 1), \n",
        "            nn.Sigmoid())\n",
        "    def forward(self, x):\n",
        "        return self.model(x)"
      ]
    },
    {
      "cell_type": "code",
      "execution_count": 29,
      "metadata": {
        "id": "rbP6EzCrZigV"
      },
      "outputs": [],
      "source": [
        "generator = Generator()\n",
        "critic = Discriminator()"
      ]
    },
    {
      "cell_type": "markdown",
      "metadata": {
        "id": "nNjioRpPZigW"
      },
      "source": [
        "### Create optimizers and loss"
      ]
    },
    {
      "cell_type": "code",
      "execution_count": 21,
      "metadata": {
        "id": "osp6OpfaZigW"
      },
      "outputs": [],
      "source": [
        "optim_G = optim.RMSprop(params=generator.parameters(), lr=0.0001)\n",
        "optim_C = optim.RMSprop(params=critic.parameters(), lr=0.0001)\n",
        "\n",
        "criterion = nn.BCELoss()"
      ]
    },
    {
      "cell_type": "markdown",
      "metadata": {
        "id": "JkPbpeWhZigX"
      },
      "source": [
        "### Create necessary variables"
      ]
    },
    {
      "cell_type": "code",
      "execution_count": 12,
      "metadata": {
        "id": "8Aqs3vdWZigX"
      },
      "outputs": [],
      "source": [
        "input = Variable(torch.FloatTensor(config.batch_size, 28*28))\n",
        "noise = Variable(torch.FloatTensor(config.batch_size, config.noise_size))\n",
        "fixed_noise = Variable(torch.FloatTensor(config.batch_size, config.noise_size).normal_(0, 1))\n",
        "label = Variable(torch.FloatTensor(config.batch_size))\n",
        "real_label = 1\n",
        "fake_label = 0"
      ]
    },
    {
      "cell_type": "code",
      "source": [
        "label = label.unsqueeze(1)"
      ],
      "metadata": {
        "id": "dAfFkw1BaW_k"
      },
      "execution_count": 13,
      "outputs": []
    },
    {
      "cell_type": "markdown",
      "metadata": {
        "id": "c4694hzcZigY"
      },
      "source": [
        "### GAN"
      ]
    },
    {
      "cell_type": "code",
      "execution_count": 16,
      "metadata": {
        "scrolled": true,
        "colab": {
          "base_uri": "https://localhost:8080/"
        },
        "id": "EkRs2J29ZigY",
        "outputId": "8fb5c082-e05b-4bfe-f67e-145eae38325c"
      },
      "outputs": [
        {
          "output_type": "stream",
          "name": "stdout",
          "text": [
            "Epoch:1 Iter: 100 errD_x: 0.69 errD_z: 0.30 errG: 1.35\n",
            "Epoch:1 Iter: 200 errD_x: 0.71 errD_z: 0.30 errG: 1.28\n",
            "Epoch:1 Iter: 300 errD_x: 0.61 errD_z: 0.38 errG: 1.08\n",
            "Epoch:1 Iter: 400 errD_x: 0.75 errD_z: 0.41 errG: 1.07\n",
            "Epoch:1 Iter: 500 errD_x: 0.84 errD_z: 0.45 errG: 1.12\n",
            "Epoch:1 Iter: 600 errD_x: 0.76 errD_z: 0.40 errG: 1.01\n",
            "Epoch:1 Iter: 700 errD_x: 0.65 errD_z: 0.48 errG: 0.95\n",
            "Epoch:1 Iter: 800 errD_x: 0.68 errD_z: 0.44 errG: 1.04\n",
            "Epoch:1 Iter: 900 errD_x: 0.55 errD_z: 0.42 errG: 1.14\n",
            "Epoch:1 Iter: 1000 errD_x: 0.35 errD_z: 0.42 errG: 1.11\n",
            "Epoch:1 Iter: 1100 errD_x: 0.42 errD_z: 0.47 errG: 1.00\n",
            "Epoch:1 Iter: 1200 errD_x: 0.53 errD_z: 0.58 errG: 0.82\n",
            "Epoch:1 Iter: 1300 errD_x: 0.31 errD_z: 0.60 errG: 0.86\n",
            "Epoch:1 Iter: 1400 errD_x: 0.16 errD_z: 0.59 errG: 0.88\n",
            "Epoch:1 Iter: 1500 errD_x: 0.38 errD_z: 0.63 errG: 0.82\n",
            "Epoch:1 Iter: 1600 errD_x: 0.76 errD_z: 0.76 errG: 0.66\n",
            "Epoch:1 Iter: 1700 errD_x: 0.43 errD_z: 0.74 errG: 0.65\n",
            "Epoch:1 Iter: 1800 errD_x: 0.23 errD_z: 0.72 errG: 0.67\n",
            "Epoch:1 Iter: 1900 errD_x: 0.20 errD_z: 0.66 errG: 0.80\n",
            "Epoch:1 Iter: 2000 errD_x: 0.26 errD_z: 0.69 errG: 0.71\n",
            "Epoch:1 Iter: 2100 errD_x: 0.10 errD_z: 0.53 errG: 0.93\n",
            "Epoch:1 Iter: 2200 errD_x: 0.30 errD_z: 0.63 errG: 0.81\n",
            "Epoch:1 Iter: 2300 errD_x: 0.69 errD_z: 0.62 errG: 0.78\n",
            "Epoch:1 Iter: 2400 errD_x: 0.23 errD_z: 0.59 errG: 0.90\n",
            "Epoch:1 Iter: 2500 errD_x: 0.23 errD_z: 0.58 errG: 0.83\n",
            "Epoch:1 Iter: 2600 errD_x: 0.22 errD_z: 0.82 errG: 0.74\n",
            "Epoch:1 Iter: 2700 errD_x: 0.31 errD_z: 0.57 errG: 0.85\n",
            "Epoch:1 Iter: 2800 errD_x: 0.45 errD_z: 0.49 errG: 0.94\n",
            "Epoch:1 Iter: 2900 errD_x: 0.33 errD_z: 0.55 errG: 0.96\n",
            "Epoch:1 Iter: 3000 errD_x: 0.48 errD_z: 0.49 errG: 0.94\n",
            "Epoch:1 Iter: 3100 errD_x: 0.34 errD_z: 0.48 errG: 1.14\n",
            "Epoch:1 Iter: 3200 errD_x: 0.33 errD_z: 0.37 errG: 1.24\n",
            "Epoch:1 Iter: 3300 errD_x: 0.55 errD_z: 0.36 errG: 1.18\n",
            "Epoch:1 Iter: 3400 errD_x: 0.57 errD_z: 0.29 errG: 1.29\n",
            "Epoch:1 Iter: 3500 errD_x: 0.46 errD_z: 0.28 errG: 1.31\n",
            "Epoch:1 Iter: 3600 errD_x: 0.33 errD_z: 0.39 errG: 1.42\n",
            "Epoch:1 Iter: 3700 errD_x: 0.48 errD_z: 0.37 errG: 1.29\n",
            "Epoch:2 Iter: 100 errD_x: 0.40 errD_z: 0.43 errG: 1.33\n",
            "Epoch:2 Iter: 200 errD_x: 0.35 errD_z: 0.44 errG: 1.35\n",
            "Epoch:2 Iter: 300 errD_x: 0.36 errD_z: 0.35 errG: 1.41\n",
            "Epoch:2 Iter: 400 errD_x: 0.21 errD_z: 0.35 errG: 1.43\n",
            "Epoch:2 Iter: 500 errD_x: 0.51 errD_z: 0.42 errG: 1.20\n",
            "Epoch:2 Iter: 600 errD_x: 0.57 errD_z: 0.31 errG: 1.20\n",
            "Epoch:2 Iter: 700 errD_x: 0.39 errD_z: 0.26 errG: 1.42\n",
            "Epoch:2 Iter: 800 errD_x: 0.30 errD_z: 0.28 errG: 1.56\n",
            "Epoch:2 Iter: 900 errD_x: 0.29 errD_z: 0.37 errG: 1.68\n",
            "Epoch:2 Iter: 1000 errD_x: 0.57 errD_z: 0.24 errG: 1.45\n",
            "Epoch:2 Iter: 1100 errD_x: 0.25 errD_z: 0.25 errG: 1.79\n",
            "Epoch:2 Iter: 1200 errD_x: 0.65 errD_z: 0.24 errG: 1.36\n",
            "Epoch:2 Iter: 1300 errD_x: 0.42 errD_z: 0.27 errG: 1.43\n",
            "Epoch:2 Iter: 1400 errD_x: 0.37 errD_z: 0.35 errG: 1.77\n",
            "Epoch:2 Iter: 1500 errD_x: 0.45 errD_z: 0.30 errG: 1.49\n",
            "Epoch:2 Iter: 1600 errD_x: 0.30 errD_z: 0.42 errG: 1.62\n",
            "Epoch:2 Iter: 1700 errD_x: 0.66 errD_z: 0.12 errG: 1.47\n",
            "Epoch:2 Iter: 1800 errD_x: 0.47 errD_z: 0.45 errG: 1.36\n",
            "Epoch:2 Iter: 1900 errD_x: 0.15 errD_z: 0.47 errG: 1.99\n",
            "Epoch:2 Iter: 2000 errD_x: 0.36 errD_z: 0.40 errG: 1.48\n",
            "Epoch:2 Iter: 2100 errD_x: 0.17 errD_z: 0.19 errG: 2.05\n",
            "Epoch:2 Iter: 2200 errD_x: 0.49 errD_z: 0.29 errG: 1.43\n",
            "Epoch:2 Iter: 2300 errD_x: 0.52 errD_z: 0.23 errG: 1.57\n",
            "Epoch:2 Iter: 2400 errD_x: 0.30 errD_z: 0.44 errG: 1.70\n",
            "Epoch:2 Iter: 2500 errD_x: 0.34 errD_z: 0.39 errG: 1.53\n",
            "Epoch:2 Iter: 2600 errD_x: 0.58 errD_z: 0.25 errG: 1.50\n",
            "Epoch:2 Iter: 2700 errD_x: 0.22 errD_z: 0.43 errG: 1.47\n",
            "Epoch:2 Iter: 2800 errD_x: 0.29 errD_z: 0.22 errG: 1.77\n",
            "Epoch:2 Iter: 2900 errD_x: 0.33 errD_z: 0.26 errG: 1.71\n",
            "Epoch:2 Iter: 3000 errD_x: 0.31 errD_z: 0.21 errG: 1.75\n",
            "Epoch:2 Iter: 3100 errD_x: 0.23 errD_z: 0.15 errG: 2.05\n",
            "Epoch:2 Iter: 3200 errD_x: 1.15 errD_z: 0.11 errG: 1.41\n",
            "Epoch:2 Iter: 3300 errD_x: 0.36 errD_z: 0.28 errG: 1.67\n",
            "Epoch:2 Iter: 3400 errD_x: 0.95 errD_z: 0.20 errG: 1.20\n",
            "Epoch:2 Iter: 3500 errD_x: 0.34 errD_z: 0.31 errG: 1.58\n",
            "Epoch:2 Iter: 3600 errD_x: 0.56 errD_z: 0.27 errG: 1.50\n",
            "Epoch:2 Iter: 3700 errD_x: 0.43 errD_z: 0.35 errG: 1.51\n",
            "Epoch:3 Iter: 100 errD_x: 0.21 errD_z: 0.39 errG: 2.16\n",
            "Epoch:3 Iter: 200 errD_x: 0.36 errD_z: 0.27 errG: 1.78\n",
            "Epoch:3 Iter: 300 errD_x: 0.15 errD_z: 0.16 errG: 2.38\n",
            "Epoch:3 Iter: 400 errD_x: 0.38 errD_z: 0.41 errG: 1.64\n",
            "Epoch:3 Iter: 500 errD_x: 0.55 errD_z: 0.21 errG: 1.26\n",
            "Epoch:3 Iter: 600 errD_x: 0.03 errD_z: 0.61 errG: 2.46\n",
            "Epoch:3 Iter: 700 errD_x: 0.49 errD_z: 0.22 errG: 1.57\n",
            "Epoch:3 Iter: 800 errD_x: 0.31 errD_z: 0.21 errG: 2.09\n",
            "Epoch:3 Iter: 900 errD_x: 0.19 errD_z: 0.32 errG: 1.77\n",
            "Epoch:3 Iter: 1000 errD_x: 0.43 errD_z: 0.28 errG: 1.42\n",
            "Epoch:3 Iter: 1100 errD_x: 0.48 errD_z: 0.25 errG: 1.62\n",
            "Epoch:3 Iter: 1200 errD_x: 0.39 errD_z: 0.23 errG: 1.55\n",
            "Epoch:3 Iter: 1300 errD_x: 0.12 errD_z: 0.29 errG: 2.05\n",
            "Epoch:3 Iter: 1400 errD_x: 0.41 errD_z: 0.39 errG: 1.54\n",
            "Epoch:3 Iter: 1500 errD_x: 0.33 errD_z: 0.24 errG: 1.67\n",
            "Epoch:3 Iter: 1600 errD_x: 0.26 errD_z: 0.24 errG: 1.69\n",
            "Epoch:3 Iter: 1700 errD_x: 0.77 errD_z: 0.14 errG: 1.20\n",
            "Epoch:3 Iter: 1800 errD_x: 0.27 errD_z: 0.19 errG: 1.95\n",
            "Epoch:3 Iter: 1900 errD_x: 0.31 errD_z: 0.28 errG: 1.68\n",
            "Epoch:3 Iter: 2000 errD_x: 0.33 errD_z: 0.13 errG: 2.20\n",
            "Epoch:3 Iter: 2100 errD_x: 0.46 errD_z: 0.16 errG: 1.69\n",
            "Epoch:3 Iter: 2200 errD_x: 0.42 errD_z: 0.23 errG: 1.36\n",
            "Epoch:3 Iter: 2300 errD_x: 0.41 errD_z: 0.19 errG: 1.57\n",
            "Epoch:3 Iter: 2400 errD_x: 0.22 errD_z: 0.18 errG: 2.34\n",
            "Epoch:3 Iter: 2500 errD_x: 0.20 errD_z: 0.20 errG: 1.94\n",
            "Epoch:3 Iter: 2600 errD_x: 0.27 errD_z: 0.26 errG: 1.90\n",
            "Epoch:3 Iter: 2700 errD_x: 0.36 errD_z: 0.15 errG: 1.80\n",
            "Epoch:3 Iter: 2800 errD_x: 0.39 errD_z: 0.46 errG: 1.70\n",
            "Epoch:3 Iter: 2900 errD_x: 0.46 errD_z: 0.26 errG: 1.76\n",
            "Epoch:3 Iter: 3000 errD_x: 0.40 errD_z: 0.17 errG: 1.69\n",
            "Epoch:3 Iter: 3100 errD_x: 0.31 errD_z: 0.29 errG: 1.60\n",
            "Epoch:3 Iter: 3200 errD_x: 0.21 errD_z: 0.27 errG: 1.92\n",
            "Epoch:3 Iter: 3300 errD_x: 0.68 errD_z: 0.22 errG: 1.07\n",
            "Epoch:3 Iter: 3400 errD_x: 0.29 errD_z: 0.50 errG: 1.79\n",
            "Epoch:3 Iter: 3500 errD_x: 0.23 errD_z: 0.23 errG: 1.89\n",
            "Epoch:3 Iter: 3600 errD_x: 0.54 errD_z: 0.19 errG: 1.49\n",
            "Epoch:3 Iter: 3700 errD_x: 0.36 errD_z: 0.48 errG: 1.53\n",
            "Epoch:4 Iter: 100 errD_x: 0.22 errD_z: 0.20 errG: 2.11\n",
            "Epoch:4 Iter: 200 errD_x: 0.13 errD_z: 0.26 errG: 2.00\n",
            "Epoch:4 Iter: 300 errD_x: 0.33 errD_z: 0.22 errG: 1.40\n",
            "Epoch:4 Iter: 400 errD_x: 0.23 errD_z: 0.42 errG: 1.79\n",
            "Epoch:4 Iter: 500 errD_x: 0.24 errD_z: 0.21 errG: 2.05\n",
            "Epoch:4 Iter: 600 errD_x: 0.77 errD_z: 0.28 errG: 1.34\n",
            "Epoch:4 Iter: 700 errD_x: 0.27 errD_z: 0.32 errG: 2.21\n",
            "Epoch:4 Iter: 800 errD_x: 0.56 errD_z: 0.22 errG: 1.14\n",
            "Epoch:4 Iter: 900 errD_x: 0.36 errD_z: 0.35 errG: 1.60\n",
            "Epoch:4 Iter: 1000 errD_x: 0.47 errD_z: 0.50 errG: 1.55\n",
            "Epoch:4 Iter: 1100 errD_x: 0.07 errD_z: 0.41 errG: 2.01\n",
            "Epoch:4 Iter: 1200 errD_x: 0.19 errD_z: 0.28 errG: 2.02\n",
            "Epoch:4 Iter: 1300 errD_x: 0.31 errD_z: 0.26 errG: 1.99\n",
            "Epoch:4 Iter: 1400 errD_x: 0.57 errD_z: 0.10 errG: 1.58\n",
            "Epoch:4 Iter: 1500 errD_x: 0.31 errD_z: 0.53 errG: 1.48\n",
            "Epoch:4 Iter: 1600 errD_x: 0.14 errD_z: 0.17 errG: 2.16\n",
            "Epoch:4 Iter: 1700 errD_x: 0.37 errD_z: 0.17 errG: 1.89\n",
            "Epoch:4 Iter: 1800 errD_x: 0.49 errD_z: 0.24 errG: 1.50\n",
            "Epoch:4 Iter: 1900 errD_x: 0.22 errD_z: 0.26 errG: 1.80\n",
            "Epoch:4 Iter: 2000 errD_x: 0.43 errD_z: 0.30 errG: 1.73\n",
            "Epoch:4 Iter: 2100 errD_x: 0.59 errD_z: 0.06 errG: 1.94\n",
            "Epoch:4 Iter: 2200 errD_x: 0.34 errD_z: 0.36 errG: 1.49\n",
            "Epoch:4 Iter: 2300 errD_x: 0.42 errD_z: 0.26 errG: 2.11\n",
            "Epoch:4 Iter: 2400 errD_x: 0.29 errD_z: 0.51 errG: 1.66\n",
            "Epoch:4 Iter: 2500 errD_x: 0.13 errD_z: 0.19 errG: 2.51\n",
            "Epoch:4 Iter: 2600 errD_x: 0.21 errD_z: 0.13 errG: 2.40\n",
            "Epoch:4 Iter: 2700 errD_x: 0.31 errD_z: 0.38 errG: 1.86\n",
            "Epoch:4 Iter: 2800 errD_x: 0.47 errD_z: 0.53 errG: 1.65\n",
            "Epoch:4 Iter: 2900 errD_x: 0.53 errD_z: 0.17 errG: 1.55\n",
            "Epoch:4 Iter: 3000 errD_x: 0.28 errD_z: 0.41 errG: 1.83\n",
            "Epoch:4 Iter: 3100 errD_x: 0.17 errD_z: 0.28 errG: 2.13\n",
            "Epoch:4 Iter: 3200 errD_x: 0.35 errD_z: 0.26 errG: 2.01\n",
            "Epoch:4 Iter: 3300 errD_x: 0.53 errD_z: 0.18 errG: 1.52\n",
            "Epoch:4 Iter: 3400 errD_x: 0.32 errD_z: 0.24 errG: 2.08\n",
            "Epoch:4 Iter: 3500 errD_x: 0.30 errD_z: 0.25 errG: 2.01\n",
            "Epoch:4 Iter: 3600 errD_x: 0.35 errD_z: 0.31 errG: 1.90\n",
            "Epoch:4 Iter: 3700 errD_x: 0.46 errD_z: 0.18 errG: 1.44\n",
            "Epoch:5 Iter: 100 errD_x: 0.40 errD_z: 0.17 errG: 1.78\n",
            "Epoch:5 Iter: 200 errD_x: 0.13 errD_z: 0.36 errG: 2.62\n",
            "Epoch:5 Iter: 300 errD_x: 0.37 errD_z: 0.36 errG: 1.74\n",
            "Epoch:5 Iter: 400 errD_x: 0.45 errD_z: 0.28 errG: 1.49\n",
            "Epoch:5 Iter: 500 errD_x: 0.18 errD_z: 0.49 errG: 2.02\n",
            "Epoch:5 Iter: 600 errD_x: 0.21 errD_z: 0.22 errG: 2.15\n",
            "Epoch:5 Iter: 700 errD_x: 0.38 errD_z: 0.20 errG: 1.73\n",
            "Epoch:5 Iter: 800 errD_x: 0.29 errD_z: 0.16 errG: 2.06\n",
            "Epoch:5 Iter: 900 errD_x: 0.18 errD_z: 0.43 errG: 2.08\n",
            "Epoch:5 Iter: 1000 errD_x: 0.38 errD_z: 0.48 errG: 1.63\n",
            "Epoch:5 Iter: 1100 errD_x: 0.32 errD_z: 0.37 errG: 1.95\n",
            "Epoch:5 Iter: 1200 errD_x: 0.41 errD_z: 0.18 errG: 1.83\n",
            "Epoch:5 Iter: 1300 errD_x: 0.67 errD_z: 0.19 errG: 1.50\n",
            "Epoch:5 Iter: 1400 errD_x: 0.45 errD_z: 0.46 errG: 1.56\n",
            "Epoch:5 Iter: 1500 errD_x: 0.34 errD_z: 0.28 errG: 1.86\n",
            "Epoch:5 Iter: 1600 errD_x: 0.07 errD_z: 0.23 errG: 2.33\n",
            "Epoch:5 Iter: 1700 errD_x: 0.37 errD_z: 0.26 errG: 1.75\n",
            "Epoch:5 Iter: 1800 errD_x: 0.28 errD_z: 0.28 errG: 2.03\n",
            "Epoch:5 Iter: 1900 errD_x: 0.12 errD_z: 0.40 errG: 2.10\n",
            "Epoch:5 Iter: 2000 errD_x: 0.07 errD_z: 0.24 errG: 2.23\n",
            "Epoch:5 Iter: 2100 errD_x: 0.36 errD_z: 0.21 errG: 1.79\n",
            "Epoch:5 Iter: 2200 errD_x: 0.20 errD_z: 0.52 errG: 2.08\n",
            "Epoch:5 Iter: 2300 errD_x: 0.36 errD_z: 0.33 errG: 1.73\n",
            "Epoch:5 Iter: 2400 errD_x: 0.35 errD_z: 0.17 errG: 1.84\n",
            "Epoch:5 Iter: 2500 errD_x: 0.58 errD_z: 0.42 errG: 1.44\n",
            "Epoch:5 Iter: 2600 errD_x: 0.54 errD_z: 0.17 errG: 1.82\n",
            "Epoch:5 Iter: 2700 errD_x: 0.19 errD_z: 0.39 errG: 1.64\n",
            "Epoch:5 Iter: 2800 errD_x: 0.52 errD_z: 0.19 errG: 1.58\n",
            "Epoch:5 Iter: 2900 errD_x: 0.73 errD_z: 0.16 errG: 1.36\n",
            "Epoch:5 Iter: 3000 errD_x: 0.77 errD_z: 0.07 errG: 1.47\n",
            "Epoch:5 Iter: 3100 errD_x: 0.55 errD_z: 0.29 errG: 1.68\n",
            "Epoch:5 Iter: 3200 errD_x: 0.43 errD_z: 0.33 errG: 1.71\n",
            "Epoch:5 Iter: 3300 errD_x: 0.49 errD_z: 0.20 errG: 1.49\n",
            "Epoch:5 Iter: 3400 errD_x: 0.39 errD_z: 0.47 errG: 1.58\n",
            "Epoch:5 Iter: 3500 errD_x: 0.67 errD_z: 0.24 errG: 1.37\n",
            "Epoch:5 Iter: 3600 errD_x: 0.34 errD_z: 0.16 errG: 1.71\n",
            "Epoch:5 Iter: 3700 errD_x: 0.61 errD_z: 0.27 errG: 1.25\n",
            "Epoch:6 Iter: 100 errD_x: 0.23 errD_z: 0.26 errG: 2.05\n",
            "Epoch:6 Iter: 200 errD_x: 0.45 errD_z: 0.36 errG: 1.83\n",
            "Epoch:6 Iter: 300 errD_x: 0.45 errD_z: 0.26 errG: 1.63\n",
            "Epoch:6 Iter: 400 errD_x: 0.89 errD_z: 0.24 errG: 0.98\n",
            "Epoch:6 Iter: 500 errD_x: 0.63 errD_z: 0.22 errG: 1.40\n",
            "Epoch:6 Iter: 600 errD_x: 0.29 errD_z: 0.39 errG: 1.93\n",
            "Epoch:6 Iter: 700 errD_x: 0.38 errD_z: 0.27 errG: 1.71\n",
            "Epoch:6 Iter: 800 errD_x: 0.81 errD_z: 0.25 errG: 1.34\n",
            "Epoch:6 Iter: 900 errD_x: 0.22 errD_z: 0.35 errG: 1.89\n",
            "Epoch:6 Iter: 1000 errD_x: 0.33 errD_z: 0.31 errG: 2.00\n",
            "Epoch:6 Iter: 1100 errD_x: 0.79 errD_z: 0.20 errG: 1.02\n",
            "Epoch:6 Iter: 1200 errD_x: 0.30 errD_z: 0.36 errG: 1.84\n",
            "Epoch:6 Iter: 1300 errD_x: 0.39 errD_z: 0.26 errG: 1.74\n",
            "Epoch:6 Iter: 1400 errD_x: 0.56 errD_z: 0.22 errG: 1.52\n",
            "Epoch:6 Iter: 1500 errD_x: 0.43 errD_z: 0.29 errG: 1.57\n",
            "Epoch:6 Iter: 1600 errD_x: 0.45 errD_z: 0.20 errG: 1.84\n",
            "Epoch:6 Iter: 1700 errD_x: 0.38 errD_z: 0.26 errG: 1.91\n",
            "Epoch:6 Iter: 1800 errD_x: 0.11 errD_z: 0.27 errG: 2.11\n",
            "Epoch:6 Iter: 1900 errD_x: 0.61 errD_z: 0.20 errG: 1.50\n",
            "Epoch:6 Iter: 2000 errD_x: 0.48 errD_z: 0.15 errG: 1.58\n",
            "Epoch:6 Iter: 2100 errD_x: 0.33 errD_z: 0.44 errG: 1.62\n",
            "Epoch:6 Iter: 2200 errD_x: 0.47 errD_z: 0.33 errG: 1.94\n",
            "Epoch:6 Iter: 2300 errD_x: 0.45 errD_z: 0.26 errG: 1.78\n",
            "Epoch:6 Iter: 2400 errD_x: 0.83 errD_z: 0.14 errG: 1.41\n",
            "Epoch:6 Iter: 2500 errD_x: 0.45 errD_z: 0.36 errG: 1.81\n",
            "Epoch:6 Iter: 2600 errD_x: 0.59 errD_z: 0.40 errG: 1.13\n",
            "Epoch:6 Iter: 2700 errD_x: 0.27 errD_z: 0.39 errG: 1.67\n",
            "Epoch:6 Iter: 2800 errD_x: 0.61 errD_z: 0.11 errG: 1.81\n",
            "Epoch:6 Iter: 2900 errD_x: 0.76 errD_z: 0.24 errG: 1.04\n",
            "Epoch:6 Iter: 3000 errD_x: 0.87 errD_z: 0.27 errG: 1.25\n",
            "Epoch:6 Iter: 3100 errD_x: 0.24 errD_z: 0.38 errG: 1.89\n",
            "Epoch:6 Iter: 3200 errD_x: 0.45 errD_z: 0.23 errG: 1.85\n",
            "Epoch:6 Iter: 3300 errD_x: 0.95 errD_z: 0.32 errG: 1.12\n",
            "Epoch:6 Iter: 3400 errD_x: 0.18 errD_z: 0.67 errG: 2.47\n",
            "Epoch:6 Iter: 3500 errD_x: 0.55 errD_z: 0.26 errG: 1.38\n",
            "Epoch:6 Iter: 3600 errD_x: 0.47 errD_z: 0.24 errG: 1.19\n",
            "Epoch:6 Iter: 3700 errD_x: 0.43 errD_z: 0.25 errG: 1.49\n",
            "Epoch:7 Iter: 100 errD_x: 0.36 errD_z: 0.29 errG: 1.68\n",
            "Epoch:7 Iter: 200 errD_x: 0.69 errD_z: 0.17 errG: 1.28\n",
            "Epoch:7 Iter: 300 errD_x: 0.47 errD_z: 0.26 errG: 1.63\n",
            "Epoch:7 Iter: 400 errD_x: 0.37 errD_z: 0.24 errG: 1.83\n",
            "Epoch:7 Iter: 500 errD_x: 0.34 errD_z: 0.16 errG: 2.07\n",
            "Epoch:7 Iter: 600 errD_x: 0.27 errD_z: 0.23 errG: 1.69\n",
            "Epoch:7 Iter: 700 errD_x: 0.25 errD_z: 0.21 errG: 1.74\n",
            "Epoch:7 Iter: 800 errD_x: 0.21 errD_z: 0.35 errG: 2.13\n",
            "Epoch:7 Iter: 900 errD_x: 0.32 errD_z: 0.49 errG: 1.80\n",
            "Epoch:7 Iter: 1000 errD_x: 0.57 errD_z: 0.19 errG: 1.49\n",
            "Epoch:7 Iter: 1100 errD_x: 0.20 errD_z: 0.54 errG: 1.82\n",
            "Epoch:7 Iter: 1200 errD_x: 0.37 errD_z: 0.34 errG: 1.51\n",
            "Epoch:7 Iter: 1300 errD_x: 0.54 errD_z: 0.38 errG: 1.56\n",
            "Epoch:7 Iter: 1400 errD_x: 0.53 errD_z: 0.14 errG: 2.00\n",
            "Epoch:7 Iter: 1500 errD_x: 0.32 errD_z: 0.38 errG: 1.66\n",
            "Epoch:7 Iter: 1600 errD_x: 0.87 errD_z: 0.19 errG: 1.30\n",
            "Epoch:7 Iter: 1700 errD_x: 0.33 errD_z: 0.37 errG: 1.52\n",
            "Epoch:7 Iter: 1800 errD_x: 0.38 errD_z: 0.23 errG: 1.70\n",
            "Epoch:7 Iter: 1900 errD_x: 0.52 errD_z: 0.31 errG: 1.73\n",
            "Epoch:7 Iter: 2000 errD_x: 0.43 errD_z: 0.38 errG: 1.72\n",
            "Epoch:7 Iter: 2100 errD_x: 0.41 errD_z: 0.28 errG: 2.39\n",
            "Epoch:7 Iter: 2200 errD_x: 0.24 errD_z: 0.50 errG: 2.26\n",
            "Epoch:7 Iter: 2300 errD_x: 0.31 errD_z: 0.39 errG: 1.84\n",
            "Epoch:7 Iter: 2400 errD_x: 0.84 errD_z: 0.25 errG: 1.22\n",
            "Epoch:7 Iter: 2500 errD_x: 0.42 errD_z: 0.24 errG: 1.53\n",
            "Epoch:7 Iter: 2600 errD_x: 0.21 errD_z: 0.25 errG: 2.01\n",
            "Epoch:7 Iter: 2700 errD_x: 0.41 errD_z: 0.27 errG: 1.78\n",
            "Epoch:7 Iter: 2800 errD_x: 0.38 errD_z: 0.29 errG: 1.77\n",
            "Epoch:7 Iter: 2900 errD_x: 0.14 errD_z: 0.48 errG: 1.81\n",
            "Epoch:7 Iter: 3000 errD_x: 0.34 errD_z: 0.30 errG: 1.67\n",
            "Epoch:7 Iter: 3100 errD_x: 0.54 errD_z: 0.21 errG: 1.64\n",
            "Epoch:7 Iter: 3200 errD_x: 0.26 errD_z: 0.31 errG: 1.69\n",
            "Epoch:7 Iter: 3300 errD_x: 0.23 errD_z: 0.31 errG: 1.56\n",
            "Epoch:7 Iter: 3400 errD_x: 0.40 errD_z: 0.35 errG: 1.49\n",
            "Epoch:7 Iter: 3500 errD_x: 0.31 errD_z: 0.25 errG: 1.75\n",
            "Epoch:7 Iter: 3600 errD_x: 0.28 errD_z: 0.40 errG: 1.63\n",
            "Epoch:7 Iter: 3700 errD_x: 0.52 errD_z: 0.33 errG: 1.56\n",
            "Epoch:8 Iter: 100 errD_x: 0.29 errD_z: 0.23 errG: 1.72\n",
            "Epoch:8 Iter: 200 errD_x: 0.31 errD_z: 0.20 errG: 1.95\n",
            "Epoch:8 Iter: 300 errD_x: 0.24 errD_z: 0.21 errG: 2.00\n",
            "Epoch:8 Iter: 400 errD_x: 0.64 errD_z: 0.29 errG: 1.58\n",
            "Epoch:8 Iter: 500 errD_x: 0.60 errD_z: 0.32 errG: 1.54\n",
            "Epoch:8 Iter: 600 errD_x: 0.34 errD_z: 0.18 errG: 2.04\n",
            "Epoch:8 Iter: 700 errD_x: 0.62 errD_z: 0.18 errG: 1.53\n",
            "Epoch:8 Iter: 800 errD_x: 0.25 errD_z: 0.47 errG: 1.92\n",
            "Epoch:8 Iter: 900 errD_x: 0.43 errD_z: 0.17 errG: 1.79\n",
            "Epoch:8 Iter: 1000 errD_x: 0.22 errD_z: 0.31 errG: 1.91\n",
            "Epoch:8 Iter: 1100 errD_x: 0.40 errD_z: 0.21 errG: 1.72\n",
            "Epoch:8 Iter: 1200 errD_x: 0.45 errD_z: 0.48 errG: 1.69\n",
            "Epoch:8 Iter: 1300 errD_x: 0.47 errD_z: 0.37 errG: 1.37\n",
            "Epoch:8 Iter: 1400 errD_x: 0.93 errD_z: 0.37 errG: 0.76\n",
            "Epoch:8 Iter: 1500 errD_x: 0.42 errD_z: 0.25 errG: 1.98\n",
            "Epoch:8 Iter: 1600 errD_x: 0.37 errD_z: 0.16 errG: 1.85\n",
            "Epoch:8 Iter: 1700 errD_x: 0.75 errD_z: 0.13 errG: 1.50\n",
            "Epoch:8 Iter: 1800 errD_x: 0.39 errD_z: 0.16 errG: 2.06\n",
            "Epoch:8 Iter: 1900 errD_x: 0.54 errD_z: 0.20 errG: 1.86\n",
            "Epoch:8 Iter: 2000 errD_x: 0.49 errD_z: 0.42 errG: 1.38\n",
            "Epoch:8 Iter: 2100 errD_x: 0.33 errD_z: 0.27 errG: 2.02\n",
            "Epoch:8 Iter: 2200 errD_x: 0.31 errD_z: 0.25 errG: 1.69\n",
            "Epoch:8 Iter: 2300 errD_x: 0.42 errD_z: 0.21 errG: 1.87\n",
            "Epoch:8 Iter: 2400 errD_x: 0.19 errD_z: 0.26 errG: 1.90\n",
            "Epoch:8 Iter: 2500 errD_x: 0.49 errD_z: 0.48 errG: 2.02\n",
            "Epoch:8 Iter: 2600 errD_x: 0.58 errD_z: 0.28 errG: 1.98\n",
            "Epoch:8 Iter: 2700 errD_x: 0.24 errD_z: 0.42 errG: 1.69\n",
            "Epoch:8 Iter: 2800 errD_x: 0.28 errD_z: 0.52 errG: 1.66\n",
            "Epoch:8 Iter: 2900 errD_x: 0.46 errD_z: 0.20 errG: 1.69\n",
            "Epoch:8 Iter: 3000 errD_x: 0.65 errD_z: 0.34 errG: 0.96\n",
            "Epoch:8 Iter: 3100 errD_x: 0.22 errD_z: 0.34 errG: 1.65\n",
            "Epoch:8 Iter: 3200 errD_x: 0.30 errD_z: 0.38 errG: 1.83\n",
            "Epoch:8 Iter: 3300 errD_x: 0.23 errD_z: 0.20 errG: 1.94\n",
            "Epoch:8 Iter: 3400 errD_x: 0.40 errD_z: 0.19 errG: 1.84\n",
            "Epoch:8 Iter: 3500 errD_x: 0.54 errD_z: 0.32 errG: 1.64\n",
            "Epoch:8 Iter: 3600 errD_x: 0.11 errD_z: 0.23 errG: 2.11\n",
            "Epoch:8 Iter: 3700 errD_x: 0.58 errD_z: 0.29 errG: 1.59\n",
            "Epoch:9 Iter: 100 errD_x: 0.50 errD_z: 0.24 errG: 1.32\n",
            "Epoch:9 Iter: 200 errD_x: 0.26 errD_z: 0.39 errG: 1.54\n",
            "Epoch:9 Iter: 300 errD_x: 0.43 errD_z: 0.27 errG: 1.57\n",
            "Epoch:9 Iter: 400 errD_x: 0.62 errD_z: 0.13 errG: 1.75\n",
            "Epoch:9 Iter: 500 errD_x: 0.32 errD_z: 0.36 errG: 1.63\n",
            "Epoch:9 Iter: 600 errD_x: 0.25 errD_z: 0.30 errG: 2.45\n",
            "Epoch:9 Iter: 700 errD_x: 0.46 errD_z: 0.23 errG: 1.48\n",
            "Epoch:9 Iter: 800 errD_x: 0.58 errD_z: 0.20 errG: 1.51\n",
            "Epoch:9 Iter: 900 errD_x: 0.24 errD_z: 0.46 errG: 1.57\n",
            "Epoch:9 Iter: 1000 errD_x: 0.40 errD_z: 0.28 errG: 1.71\n",
            "Epoch:9 Iter: 1100 errD_x: 0.38 errD_z: 0.32 errG: 2.05\n",
            "Epoch:9 Iter: 1200 errD_x: 0.31 errD_z: 0.35 errG: 1.90\n",
            "Epoch:9 Iter: 1300 errD_x: 0.71 errD_z: 0.25 errG: 1.36\n",
            "Epoch:9 Iter: 1400 errD_x: 0.39 errD_z: 0.26 errG: 1.94\n",
            "Epoch:9 Iter: 1500 errD_x: 0.18 errD_z: 0.36 errG: 1.90\n",
            "Epoch:9 Iter: 1600 errD_x: 0.39 errD_z: 0.20 errG: 1.54\n",
            "Epoch:9 Iter: 1700 errD_x: 0.42 errD_z: 0.23 errG: 1.81\n",
            "Epoch:9 Iter: 1800 errD_x: 0.58 errD_z: 0.25 errG: 1.56\n",
            "Epoch:9 Iter: 1900 errD_x: 0.20 errD_z: 0.36 errG: 2.43\n",
            "Epoch:9 Iter: 2000 errD_x: 0.39 errD_z: 0.18 errG: 1.86\n",
            "Epoch:9 Iter: 2100 errD_x: 0.85 errD_z: 0.25 errG: 1.21\n",
            "Epoch:9 Iter: 2200 errD_x: 0.45 errD_z: 0.19 errG: 1.75\n",
            "Epoch:9 Iter: 2300 errD_x: 0.52 errD_z: 0.24 errG: 1.53\n",
            "Epoch:9 Iter: 2400 errD_x: 0.48 errD_z: 0.36 errG: 1.66\n",
            "Epoch:9 Iter: 2500 errD_x: 0.16 errD_z: 0.45 errG: 2.26\n",
            "Epoch:9 Iter: 2600 errD_x: 0.22 errD_z: 0.48 errG: 2.00\n",
            "Epoch:9 Iter: 2700 errD_x: 0.17 errD_z: 0.42 errG: 2.30\n",
            "Epoch:9 Iter: 2800 errD_x: 0.20 errD_z: 0.16 errG: 2.09\n",
            "Epoch:9 Iter: 2900 errD_x: 0.29 errD_z: 0.22 errG: 2.04\n",
            "Epoch:9 Iter: 3000 errD_x: 0.21 errD_z: 0.14 errG: 2.08\n",
            "Epoch:9 Iter: 3100 errD_x: 0.11 errD_z: 0.42 errG: 2.23\n",
            "Epoch:9 Iter: 3200 errD_x: 0.51 errD_z: 0.35 errG: 1.39\n",
            "Epoch:9 Iter: 3300 errD_x: 0.51 errD_z: 0.47 errG: 1.55\n",
            "Epoch:9 Iter: 3400 errD_x: 0.47 errD_z: 0.18 errG: 1.48\n",
            "Epoch:9 Iter: 3500 errD_x: 0.51 errD_z: 0.21 errG: 1.96\n",
            "Epoch:9 Iter: 3600 errD_x: 0.21 errD_z: 0.34 errG: 1.91\n",
            "Epoch:9 Iter: 3700 errD_x: 0.42 errD_z: 0.18 errG: 1.90\n",
            "Epoch:10 Iter: 100 errD_x: 0.22 errD_z: 0.41 errG: 1.99\n",
            "Epoch:10 Iter: 200 errD_x: 0.72 errD_z: 0.21 errG: 1.45\n",
            "Epoch:10 Iter: 300 errD_x: 0.34 errD_z: 0.23 errG: 1.68\n",
            "Epoch:10 Iter: 400 errD_x: 0.28 errD_z: 0.42 errG: 2.02\n",
            "Epoch:10 Iter: 500 errD_x: 0.50 errD_z: 0.36 errG: 1.57\n",
            "Epoch:10 Iter: 600 errD_x: 0.23 errD_z: 0.36 errG: 2.00\n",
            "Epoch:10 Iter: 700 errD_x: 0.46 errD_z: 0.30 errG: 1.52\n",
            "Epoch:10 Iter: 800 errD_x: 0.30 errD_z: 0.26 errG: 2.00\n",
            "Epoch:10 Iter: 900 errD_x: 0.12 errD_z: 0.31 errG: 2.49\n",
            "Epoch:10 Iter: 1000 errD_x: 0.31 errD_z: 0.35 errG: 1.97\n",
            "Epoch:10 Iter: 1100 errD_x: 0.20 errD_z: 0.13 errG: 2.18\n",
            "Epoch:10 Iter: 1200 errD_x: 0.12 errD_z: 0.38 errG: 2.25\n",
            "Epoch:10 Iter: 1300 errD_x: 0.41 errD_z: 0.33 errG: 1.48\n",
            "Epoch:10 Iter: 1400 errD_x: 0.48 errD_z: 0.20 errG: 1.75\n",
            "Epoch:10 Iter: 1500 errD_x: 0.29 errD_z: 0.26 errG: 1.98\n",
            "Epoch:10 Iter: 1600 errD_x: 0.74 errD_z: 0.12 errG: 1.45\n",
            "Epoch:10 Iter: 1700 errD_x: 0.31 errD_z: 0.30 errG: 2.11\n",
            "Epoch:10 Iter: 1800 errD_x: 0.28 errD_z: 0.17 errG: 2.03\n",
            "Epoch:10 Iter: 1900 errD_x: 0.30 errD_z: 0.12 errG: 2.34\n",
            "Epoch:10 Iter: 2000 errD_x: 0.31 errD_z: 0.27 errG: 2.30\n",
            "Epoch:10 Iter: 2100 errD_x: 0.22 errD_z: 0.30 errG: 2.05\n",
            "Epoch:10 Iter: 2200 errD_x: 0.61 errD_z: 0.21 errG: 1.57\n",
            "Epoch:10 Iter: 2300 errD_x: 0.43 errD_z: 0.34 errG: 1.97\n",
            "Epoch:10 Iter: 2400 errD_x: 0.48 errD_z: 0.22 errG: 1.57\n",
            "Epoch:10 Iter: 2500 errD_x: 0.09 errD_z: 0.23 errG: 2.65\n",
            "Epoch:10 Iter: 2600 errD_x: 0.69 errD_z: 0.17 errG: 1.78\n",
            "Epoch:10 Iter: 2700 errD_x: 0.35 errD_z: 0.37 errG: 2.07\n",
            "Epoch:10 Iter: 2800 errD_x: 0.27 errD_z: 0.28 errG: 2.33\n",
            "Epoch:10 Iter: 2900 errD_x: 0.37 errD_z: 0.49 errG: 2.01\n",
            "Epoch:10 Iter: 3000 errD_x: 0.17 errD_z: 0.34 errG: 2.45\n",
            "Epoch:10 Iter: 3100 errD_x: 0.45 errD_z: 0.30 errG: 2.03\n",
            "Epoch:10 Iter: 3200 errD_x: 0.12 errD_z: 0.17 errG: 2.33\n",
            "Epoch:10 Iter: 3300 errD_x: 0.39 errD_z: 0.28 errG: 1.70\n",
            "Epoch:10 Iter: 3400 errD_x: 0.59 errD_z: 0.16 errG: 1.79\n",
            "Epoch:10 Iter: 3500 errD_x: 0.26 errD_z: 0.19 errG: 2.12\n",
            "Epoch:10 Iter: 3600 errD_x: 0.40 errD_z: 0.13 errG: 1.85\n",
            "Epoch:10 Iter: 3700 errD_x: 0.40 errD_z: 0.49 errG: 1.85\n"
          ]
        }
      ],
      "source": [
        "ERRD_x = np.zeros(config.num_epochs)\n",
        "ERRD_z = np.zeros(config.num_epochs)\n",
        "ERRG = np.zeros(config.num_epochs)\n",
        "N = len(dataloader)\n",
        "\n",
        "for epoch in range(config.num_epochs):\n",
        "    for iteration, (images, cat) in enumerate(dataloader):\n",
        "        ####### \n",
        "        # Discriminator stage: maximize log(D(x)) + log(1 - D(G(z))) \n",
        "        #######\n",
        "        critic.zero_grad()\n",
        "        \n",
        "        # real\n",
        "        label.data.fill_(real_label)\n",
        "        input_data = images.view(images.shape[0], -1)\n",
        "        output = critic(input_data)\n",
        "        errD_x = criterion(output, label)\n",
        "        ERRD_x[epoch] += errD_x.item()\n",
        "        errD_x.backward()\n",
        "        \n",
        "        # fake \n",
        "        noise.data.normal_(0, 1)\n",
        "        fake = generator(noise)\n",
        "        label.data.fill_(fake_label)\n",
        "        output = critic(fake.detach())\n",
        "        errD_z = criterion(output, label)\n",
        "        ERRD_z[epoch] += errD_z.item()\n",
        "        errD_z.backward()\n",
        "        \n",
        "        optim_C.step()\n",
        "        \n",
        "        ####### \n",
        "        # Generator stage: maximize log(D(G(x))\n",
        "        #######\n",
        "        generator.zero_grad()\n",
        "        label.data.fill_(real_label)\n",
        "        output = critic(fake)\n",
        "        errG = criterion(output, label)\n",
        "        ERRG[epoch] += errG.item()\n",
        "        errG.backward()\n",
        "        \n",
        "        optim_G.step()\n",
        "        \n",
        "        if (iteration+1) % config.print_freq == 0:\n",
        "            print('Epoch:{} Iter: {} errD_x: {:.2f} errD_z: {:.2f} errG: {:.2f}'.format(epoch+1,\n",
        "                                                                                            iteration+1, \n",
        "                                                                                            errD_x.item(),\n",
        "                                                                                            errD_z.item(), \n",
        "                                                                                            errG.item()))"
      ]
    },
    {
      "cell_type": "code",
      "execution_count": 14,
      "metadata": {
        "colab": {
          "base_uri": "https://localhost:8080/",
          "height": 401
        },
        "id": "qkNSF52QZigZ",
        "outputId": "7b7c4252-3247-4793-f540-9235d9c99016"
      },
      "outputs": [
        {
          "output_type": "display_data",
          "data": {
            "text/plain": [
              "<Figure size 432x504 with 16 Axes>"
            ],
            "image/png": "[encoded data removed]"
          },
          "metadata": {
            "needs_background": "light"
          }
        }
      ],
      "source": [
        "noise.data.normal_(0, 1)\n",
        "fake = generator(noise)\n",
        "\n",
        "plt.figure(figsize=(6, 7))\n",
        "for i in range(16):\n",
        "    plt.subplot(4, 4, i + 1)\n",
        "    plt.imshow(fake[i].detach().numpy().reshape(28, 28), cmap=plt.cm.Greys_r)\n",
        "    plt.axis('off')"
      ]
    },
    {
      "cell_type": "markdown",
      "source": [
        "### WGAN"
      ],
      "metadata": {
        "id": "llR2B6atgrN4"
      }
    },
    {
      "cell_type": "code",
      "source": [
        "for epoch in range(config.num_epochs):\n",
        "    for iteration, (images, cat) in enumerate(dataloader):\n",
        "      for _ in range(critic_iterations):\n",
        "        critic.zero_grad()\n",
        "        noise.data.normal_(0, 1)\n",
        "        fake = generator(noise)\n",
        "        label.data.fill_(fake_label)\n",
        "        input_data = images.view(images.shape[0], -1)\n",
        "        critic_real = critic(input_data)\n",
        "        critic_fake = critic(fake)\n",
        "        loss_critic = -(torch.mean(critic_real) - torch.mean(critic_fake))\n",
        "        loss_critic.backward(retain_graph=True)\n",
        "        optim_C.step()\n",
        "\n",
        "        for p in critic.parameters():\n",
        "          p.data.clamp_(-weight_clip, weight_clip)\n",
        "      \n",
        "      generator.zero_grad()\n",
        "      label.data.fill_(real_label)\n",
        "      output = critic(fake)\n",
        "      loss_gen = -torch.mean(output)\n",
        "      loss_gen.backward()\n",
        "      optim_G.step()"
      ],
      "metadata": {
        "id": "LvQLxKJebe-W"
      },
      "execution_count": 22,
      "outputs": []
    },
    {
      "cell_type": "code",
      "source": [
        "noise.data.normal_(0, 1)\n",
        "fake = generator(noise)\n",
        "\n",
        "plt.figure(figsize=(6, 7))\n",
        "for i in range(16):\n",
        "    plt.subplot(4, 4, i + 1)\n",
        "    plt.imshow(fake[i].detach().numpy().reshape(28, 28), cmap=plt.cm.Greys_r)\n",
        "    plt.axis('off')"
      ],
      "metadata": {
        "colab": {
          "base_uri": "https://localhost:8080/",
          "height": 401
        },
        "id": "Yxq45uYihCoP",
        "outputId": "4b70fe13-a71a-4313-92b8-ed776a77757b"
      },
      "execution_count": 23,
      "outputs": [
        {
          "output_type": "display_data",
          "data": {
            "text/plain": [
              "<Figure size 432x504 with 16 Axes>"
            ],
            "image/png": "[encoded data removed]"
          },
          "metadata": {
            "needs_background": "light"
          }
        }
      ]
    },
    {
      "cell_type": "markdown",
      "source": [
        "### WGAN-GP"
      ],
      "metadata": {
        "id": "LdJMFf9ehk8T"
      }
    },
    {
      "cell_type": "code",
      "source": [
        "def gradient_penalty(critic, real, fake, device='cpu'):\n",
        "  batch_size, c = real.shape\n",
        "  epsilon = torch.rand((batch_size, 1)).repeat(1, c).to(device)\n",
        "  interpolated_images = real * epsilon + fake * (1 - epsilon)\n",
        "\n",
        "  mixed_scores = critic(interpolated_images)\n",
        "\n",
        "  gradient = torch.autograd.grad(\n",
        "      inputs=interpolated_images,\n",
        "      outputs=mixed_scores,\n",
        "      grad_outputs=torch.ones_like(mixed_scores),\n",
        "      create_graph=True,\n",
        "      retain_graph=True\n",
        "  )[0]\n",
        "\n",
        "  gradient = gradient.view(gradient.shape[0], -1)\n",
        "  gradient_norm = gradient.norm(2, dim=1)\n",
        "  gradient_penalty = torch.mean((gradient_norm - 1) ** 2)\n",
        "  return gradient_penalty"
      ],
      "metadata": {
        "id": "4mfE4G1lqZh3"
      },
      "execution_count": 51,
      "outputs": []
    },
    {
      "cell_type": "code",
      "source": [
        "optim_gen = optim.Adam(params=generator.parameters(), lr=0.0001, betas=(0.0, 0.9))\n",
        "optim_cri = optim.Adam(params=critic.parameters(), lr=0.0001, betas=(0.0, 0.9))"
      ],
      "metadata": {
        "id": "XzBOQ9_NiAI1"
      },
      "execution_count": 52,
      "outputs": []
    },
    {
      "cell_type": "code",
      "source": [
        "for epoch in range(config.num_epochs):\n",
        "    for iteration, (images, cat) in enumerate(dataloader):\n",
        "      for _ in range(critic_iterations):\n",
        "        critic.zero_grad()\n",
        "        noise.data.normal_(0, 1)\n",
        "        fake = generator(noise)\n",
        "        label.data.fill_(fake_label)\n",
        "        input_data = images.view(images.shape[0], -1)\n",
        "        critic_real = critic(input_data)\n",
        "        critic_fake = critic(fake)\n",
        "        gp = gradient_penalty(critic, input_data, fake, device)\n",
        "        loss_critic = (\n",
        "            -(torch.mean(critic_real) - torch.mean(critic_fake)) + lambda_gp * gp\n",
        "        )\n",
        "        loss_critic.backward(retain_graph=True)\n",
        "        optim_cri.step()\n",
        "      \n",
        "      generator.zero_grad()\n",
        "      label.data.fill_(real_label)\n",
        "      output = critic(fake)\n",
        "      loss_gen = -torch.mean(output)\n",
        "      loss_gen.backward()\n",
        "      optim_gen.step()"
      ],
      "metadata": {
        "id": "4xjdKfg8kkRf"
      },
      "execution_count": 53,
      "outputs": []
    },
    {
      "cell_type": "code",
      "source": [
        "noise.data.normal_(0, 1)\n",
        "fake = generator(noise)\n",
        "\n",
        "plt.figure(figsize=(6, 7))\n",
        "for i in range(16):\n",
        "    plt.subplot(4, 4, i + 1)\n",
        "    plt.imshow(fake[i].detach().numpy().reshape(28, 28), cmap=plt.cm.Greys_r)\n",
        "    plt.axis('off')"
      ],
      "metadata": {
        "id": "J8_alqWxkrJ4",
        "outputId": "129fd54c-243f-4982-a55f-607eb1e0356f",
        "colab": {
          "base_uri": "https://localhost:8080/",
          "height": 401
        }
      },
      "execution_count": 54,
      "outputs": [
        {
          "output_type": "display_data",
          "data": {
            "text/plain": [
              "<Figure size 432x504 with 16 Axes>"
            ],
            "image/png": "[encoded data removed]"
          },
          "metadata": {
            "needs_background": "light"
          }
        }
      ]
    },
    {
      "cell_type": "markdown",
      "source": [
        "The aforeconducted experiments have shown:\n",
        "\n",
        "1) WGAN provides higher stability in comparison with GAN (clearly seen from the visualizations), as WGANs leverages\n",
        "the Wasserstein distance to produce a value function which has better theoretical properties than the\n",
        "original. Hence, we obrained such results by the experiments and eventually proved the theory;\n",
        "\n",
        "2) Since weight-clipping can lead to undesired results, gradient-penalty approach has been proposed as it does not suffer from the problems of weight-clipping. As a result, the second approach, using gradient-penalty, shows more convergence as it could be seen from the plots. Hence, indeed, it could be treated as more successful point."
      ],
      "metadata": {
        "id": "0nSfc43580vm"
      }
    },
    {
      "cell_type": "code",
      "source": [],
      "metadata": {
        "id": "r6pMt88xEZON"
      },
      "execution_count": null,
      "outputs": []
    }
  ],
  "metadata": {
    "anaconda-cloud": {},
    "kernelspec": {
      "display_name": "Python 3 (ipykernel)",
      "language": "python",
      "name": "python3"
    },
    "language_info": {
      "codemirror_mode": {
        "name": "ipython",
        "version": 3
      },
      "file_extension": ".py",
      "mimetype": "text/x-python",
      "name": "python",
      "nbconvert_exporter": "python",
      "pygments_lexer": "ipython3",
      "version": "3.8.11"
    },
    "colab": {
      "provenance": []
    },
    "widgets": {
      "application/vnd.jupyter.widget-state+json": {
        "b688ca81aaaf452d9eee99100d0e07f8": {
          "model_module": "@jupyter-widgets/controls",
          "model_name": "HBoxModel",
          "model_module_version": "1.5.0",
          "state": {
            "_dom_classes": [],
            "_model_module": "@jupyter-widgets/controls",
            "_model_module_version": "1.5.0",
            "_model_name": "HBoxModel",
            "_view_count": null,
            "_view_module": "@jupyter-widgets/controls",
            "_view_module_version": "1.5.0",
            "_view_name": "HBoxView",
            "box_style": "",
            "children": [
              "IPY_MODEL_6e324b7210684d668f69e00af3d35fc4",
              "IPY_MODEL_ea9bcaaf685744b58260e55cdb72c4f2",
              "IPY_MODEL_b7715fad77954cba8ab56d7862eca624"
            ],
            "layout": "IPY_MODEL_c1f5d699381347cf818cbeac0c7ab03f"
          }
        },
        "6e324b7210684d668f69e00af3d35fc4": {
          "model_module": "@jupyter-widgets/controls",
          "model_name": "HTMLModel",
          "model_module_version": "1.5.0",
          "state": {
            "_dom_classes": [],
            "_model_module": "@jupyter-widgets/controls",
            "_model_module_version": "1.5.0",
            "_model_name": "HTMLModel",
            "_view_count": null,
            "_view_module": "@jupyter-widgets/controls",
            "_view_module_version": "1.5.0",
            "_view_name": "HTMLView",
            "description": "",
            "description_tooltip": null,
            "layout": "IPY_MODEL_fab59ceb8a6f4f05a9d79d68ab81b93d",
            "placeholder": "​",
            "style": "IPY_MODEL_dec17872361346f987b4984e4df940e0",
            "value": "100%"
          }
        },
        "ea9bcaaf685744b58260e55cdb72c4f2": {
          "model_module": "@jupyter-widgets/controls",
          "model_name": "FloatProgressModel",
          "model_module_version": "1.5.0",
          "state": {
            "_dom_classes": [],
            "_model_module": "@jupyter-widgets/controls",
            "_model_module_version": "1.5.0",
            "_model_name": "FloatProgressModel",
            "_view_count": null,
            "_view_module": "@jupyter-widgets/controls",
            "_view_module_version": "1.5.0",
            "_view_name": "ProgressView",
            "bar_style": "success",
            "description": "",
            "description_tooltip": null,
            "layout": "IPY_MODEL_367a2b31092b412fb07042e566cadbc1",
            "max": 26421880,
            "min": 0,
            "orientation": "horizontal",
            "style": "IPY_MODEL_cf158b6359ad47059a8ea1bd806eeebc",
            "value": 26421880
          }
        },
        "b7715fad77954cba8ab56d7862eca624": {
          "model_module": "@jupyter-widgets/controls",
          "model_name": "HTMLModel",
          "model_module_version": "1.5.0",
          "state": {
            "_dom_classes": [],
            "_model_module": "@jupyter-widgets/controls",
            "_model_module_version": "1.5.0",
            "_model_name": "HTMLModel",
            "_view_count": null,
            "_view_module": "@jupyter-widgets/controls",
            "_view_module_version": "1.5.0",
            "_view_name": "HTMLView",
            "description": "",
            "description_tooltip": null,
            "layout": "IPY_MODEL_1d2e2b3a32ba4c2b879842e1a45a3f33",
            "placeholder": "​",
            "style": "IPY_MODEL_2c6a7247e6a644e8b8065a4b71d9ae87",
            "value": " 26421880/26421880 [00:14&lt;00:00, 5941109.46it/s]"
          }
        },
        "c1f5d699381347cf818cbeac0c7ab03f": {
          "model_module": "@jupyter-widgets/base",
          "model_name": "LayoutModel",
          "model_module_version": "1.2.0",
          "state": {
            "_model_module": "@jupyter-widgets/base",
            "_model_module_version": "1.2.0",
            "_model_name": "LayoutModel",
            "_view_count": null,
            "_view_module": "@jupyter-widgets/base",
            "_view_module_version": "1.2.0",
            "_view_name": "LayoutView",
            "align_content": null,
            "align_items": null,
            "align_self": null,
            "border": null,
            "bottom": null,
            "display": null,
            "flex": null,
            "flex_flow": null,
            "grid_area": null,
            "grid_auto_columns": null,
            "grid_auto_flow": null,
            "grid_auto_rows": null,
            "grid_column": null,
            "grid_gap": null,
            "grid_row": null,
            "grid_template_areas": null,
            "grid_template_columns": null,
            "grid_template_rows": null,
            "height": null,
            "justify_content": null,
            "justify_items": null,
            "left": null,
            "margin": null,
            "max_height": null,
            "max_width": null,
            "min_height": null,
            "min_width": null,
            "object_fit": null,
            "object_position": null,
            "order": null,
            "overflow": null,
            "overflow_x": null,
            "overflow_y": null,
            "padding": null,
            "right": null,
            "top": null,
            "visibility": null,
            "width": null
          }
        },
        "fab59ceb8a6f4f05a9d79d68ab81b93d": {
          "model_module": "@jupyter-widgets/base",
          "model_name": "LayoutModel",
          "model_module_version": "1.2.0",
          "state": {
            "_model_module": "@jupyter-widgets/base",
            "_model_module_version": "1.2.0",
            "_model_name": "LayoutModel",
            "_view_count": null,
            "_view_module": "@jupyter-widgets/base",
            "_view_module_version": "1.2.0",
            "_view_name": "LayoutView",
            "align_content": null,
            "align_items": null,
            "align_self": null,
            "border": null,
            "bottom": null,
            "display": null,
            "flex": null,
            "flex_flow": null,
            "grid_area": null,
            "grid_auto_columns": null,
            "grid_auto_flow": null,
            "grid_auto_rows": null,
            "grid_column": null,
            "grid_gap": null,
            "grid_row": null,
            "grid_template_areas": null,
            "grid_template_columns": null,
            "grid_template_rows": null,
            "height": null,
            "justify_content": null,
            "justify_items": null,
            "left": null,
            "margin": null,
            "max_height": null,
            "max_width": null,
            "min_height": null,
            "min_width": null,
            "object_fit": null,
            "object_position": null,
            "order": null,
            "overflow": null,
            "overflow_x": null,
            "overflow_y": null,
            "padding": null,
            "right": null,
            "top": null,
            "visibility": null,
            "width": null
          }
        },
        "dec17872361346f987b4984e4df940e0": {
          "model_module": "@jupyter-widgets/controls",
          "model_name": "DescriptionStyleModel",
          "model_module_version": "1.5.0",
          "state": {
            "_model_module": "@jupyter-widgets/controls",
            "_model_module_version": "1.5.0",
            "_model_name": "DescriptionStyleModel",
            "_view_count": null,
            "_view_module": "@jupyter-widgets/base",
            "_view_module_version": "1.2.0",
            "_view_name": "StyleView",
            "description_width": ""
          }
        },
        "367a2b31092b412fb07042e566cadbc1": {
          "model_module": "@jupyter-widgets/base",
          "model_name": "LayoutModel",
          "model_module_version": "1.2.0",
          "state": {
            "_model_module": "@jupyter-widgets/base",
            "_model_module_version": "1.2.0",
            "_model_name": "LayoutModel",
            "_view_count": null,
            "_view_module": "@jupyter-widgets/base",
            "_view_module_version": "1.2.0",
            "_view_name": "LayoutView",
            "align_content": null,
            "align_items": null,
            "align_self": null,
            "border": null,
            "bottom": null,
            "display": null,
            "flex": null,
            "flex_flow": null,
            "grid_area": null,
            "grid_auto_columns": null,
            "grid_auto_flow": null,
            "grid_auto_rows": null,
            "grid_column": null,
            "grid_gap": null,
            "grid_row": null,
            "grid_template_areas": null,
            "grid_template_columns": null,
            "grid_template_rows": null,
            "height": null,
            "justify_content": null,
            "justify_items": null,
            "left": null,
            "margin": null,
            "max_height": null,
            "max_width": null,
            "min_height": null,
            "min_width": null,
            "object_fit": null,
            "object_position": null,
            "order": null,
            "overflow": null,
            "overflow_x": null,
            "overflow_y": null,
            "padding": null,
            "right": null,
            "top": null,
            "visibility": null,
            "width": null
          }
        },
        "cf158b6359ad47059a8ea1bd806eeebc": {
          "model_module": "@jupyter-widgets/controls",
          "model_name": "ProgressStyleModel",
          "model_module_version": "1.5.0",
          "state": {
            "_model_module": "@jupyter-widgets/controls",
            "_model_module_version": "1.5.0",
            "_model_name": "ProgressStyleModel",
            "_view_count": null,
            "_view_module": "@jupyter-widgets/base",
            "_view_module_version": "1.2.0",
            "_view_name": "StyleView",
            "bar_color": null,
            "description_width": ""
          }
        },
        "1d2e2b3a32ba4c2b879842e1a45a3f33": {
          "model_module": "@jupyter-widgets/base",
          "model_name": "LayoutModel",
          "model_module_version": "1.2.0",
          "state": {
            "_model_module": "@jupyter-widgets/base",
            "_model_module_version": "1.2.0",
            "_model_name": "LayoutModel",
            "_view_count": null,
            "_view_module": "@jupyter-widgets/base",
            "_view_module_version": "1.2.0",
            "_view_name": "LayoutView",
            "align_content": null,
            "align_items": null,
            "align_self": null,
            "border": null,
            "bottom": null,
            "display": null,
            "flex": null,
            "flex_flow": null,
            "grid_area": null,
            "grid_auto_columns": null,
            "grid_auto_flow": null,
            "grid_auto_rows": null,
            "grid_column": null,
            "grid_gap": null,
            "grid_row": null,
            "grid_template_areas": null,
            "grid_template_columns": null,
            "grid_template_rows": null,
            "height": null,
            "justify_content": null,
            "justify_items": null,
            "left": null,
            "margin": null,
            "max_height": null,
            "max_width": null,
            "min_height": null,
            "min_width": null,
            "object_fit": null,
            "object_position": null,
            "order": null,
            "overflow": null,
            "overflow_x": null,
            "overflow_y": null,
            "padding": null,
            "right": null,
            "top": null,
            "visibility": null,
            "width": null
          }
        },
        "2c6a7247e6a644e8b8065a4b71d9ae87": {
          "model_module": "@jupyter-widgets/controls",
          "model_name": "DescriptionStyleModel",
          "model_module_version": "1.5.0",
          "state": {
            "_model_module": "@jupyter-widgets/controls",
            "_model_module_version": "1.5.0",
            "_model_name": "DescriptionStyleModel",
            "_view_count": null,
            "_view_module": "@jupyter-widgets/base",
            "_view_module_version": "1.2.0",
            "_view_name": "StyleView",
            "description_width": ""
          }
        },
        "3931785cd8d14220bffae087f2c01660": {
          "model_module": "@jupyter-widgets/controls",
          "model_name": "HBoxModel",
          "model_module_version": "1.5.0",
          "state": {
            "_dom_classes": [],
            "_model_module": "@jupyter-widgets/controls",
            "_model_module_version": "1.5.0",
            "_model_name": "HBoxModel",
            "_view_count": null,
            "_view_module": "@jupyter-widgets/controls",
            "_view_module_version": "1.5.0",
            "_view_name": "HBoxView",
            "box_style": "",
            "children": [
              "IPY_MODEL_bd426cbcf7694df2a647e4da5a629625",
              "IPY_MODEL_b0cfd59c89ea4a6ab9a9a3a403e7558f",
              "IPY_MODEL_419c08182fc84dc3a29d2f865c70cfbf"
            ],
            "layout": "IPY_MODEL_51396c2fca004a0eae1de52ff964673a"
          }
        },
        "bd426cbcf7694df2a647e4da5a629625": {
          "model_module": "@jupyter-widgets/controls",
          "model_name": "HTMLModel",
          "model_module_version": "1.5.0",
          "state": {
            "_dom_classes": [],
            "_model_module": "@jupyter-widgets/controls",
            "_model_module_version": "1.5.0",
            "_model_name": "HTMLModel",
            "_view_count": null,
            "_view_module": "@jupyter-widgets/controls",
            "_view_module_version": "1.5.0",
            "_view_name": "HTMLView",
            "description": "",
            "description_tooltip": null,
            "layout": "IPY_MODEL_4a6734eb3dc84eb4a0060f08d6adac21",
            "placeholder": "​",
            "style": "IPY_MODEL_2e4a3bfebf384c55be3e462d7377d713",
            "value": "100%"
          }
        },
        "b0cfd59c89ea4a6ab9a9a3a403e7558f": {
          "model_module": "@jupyter-widgets/controls",
          "model_name": "FloatProgressModel",
          "model_module_version": "1.5.0",
          "state": {
            "_dom_classes": [],
            "_model_module": "@jupyter-widgets/controls",
            "_model_module_version": "1.5.0",
            "_model_name": "FloatProgressModel",
            "_view_count": null,
            "_view_module": "@jupyter-widgets/controls",
            "_view_module_version": "1.5.0",
            "_view_name": "ProgressView",
            "bar_style": "success",
            "description": "",
            "description_tooltip": null,
            "layout": "IPY_MODEL_b69d791105da422ab39f06a8dab6bdd9",
            "max": 29515,
            "min": 0,
            "orientation": "horizontal",
            "style": "IPY_MODEL_a712f3bd13224916b6fc5c769b0021ef",
            "value": 29515
          }
        },
        "419c08182fc84dc3a29d2f865c70cfbf": {
          "model_module": "@jupyter-widgets/controls",
          "model_name": "HTMLModel",
          "model_module_version": "1.5.0",
          "state": {
            "_dom_classes": [],
            "_model_module": "@jupyter-widgets/controls",
            "_model_module_version": "1.5.0",
            "_model_name": "HTMLModel",
            "_view_count": null,
            "_view_module": "@jupyter-widgets/controls",
            "_view_module_version": "1.5.0",
            "_view_name": "HTMLView",
            "description": "",
            "description_tooltip": null,
            "layout": "IPY_MODEL_048fd4c6c74e4587b6db37db7cb2070a",
            "placeholder": "​",
            "style": "IPY_MODEL_dfb081b09cc3428c8bb246f3e8fe22a5",
            "value": " 29515/29515 [00:00&lt;00:00, 59358.87it/s]"
          }
        },
        "51396c2fca004a0eae1de52ff964673a": {
          "model_module": "@jupyter-widgets/base",
          "model_name": "LayoutModel",
          "model_module_version": "1.2.0",
          "state": {
            "_model_module": "@jupyter-widgets/base",
            "_model_module_version": "1.2.0",
            "_model_name": "LayoutModel",
            "_view_count": null,
            "_view_module": "@jupyter-widgets/base",
            "_view_module_version": "1.2.0",
            "_view_name": "LayoutView",
            "align_content": null,
            "align_items": null,
            "align_self": null,
            "border": null,
            "bottom": null,
            "display": null,
            "flex": null,
            "flex_flow": null,
            "grid_area": null,
            "grid_auto_columns": null,
            "grid_auto_flow": null,
            "grid_auto_rows": null,
            "grid_column": null,
            "grid_gap": null,
            "grid_row": null,
            "grid_template_areas": null,
            "grid_template_columns": null,
            "grid_template_rows": null,
            "height": null,
            "justify_content": null,
            "justify_items": null,
            "left": null,
            "margin": null,
            "max_height": null,
            "max_width": null,
            "min_height": null,
            "min_width": null,
            "object_fit": null,
            "object_position": null,
            "order": null,
            "overflow": null,
            "overflow_x": null,
            "overflow_y": null,
            "padding": null,
            "right": null,
            "top": null,
            "visibility": null,
            "width": null
          }
        },
        "4a6734eb3dc84eb4a0060f08d6adac21": {
          "model_module": "@jupyter-widgets/base",
          "model_name": "LayoutModel",
          "model_module_version": "1.2.0",
          "state": {
            "_model_module": "@jupyter-widgets/base",
            "_model_module_version": "1.2.0",
            "_model_name": "LayoutModel",
            "_view_count": null,
            "_view_module": "@jupyter-widgets/base",
            "_view_module_version": "1.2.0",
            "_view_name": "LayoutView",
            "align_content": null,
            "align_items": null,
            "align_self": null,
            "border": null,
            "bottom": null,
            "display": null,
            "flex": null,
            "flex_flow": null,
            "grid_area": null,
            "grid_auto_columns": null,
            "grid_auto_flow": null,
            "grid_auto_rows": null,
            "grid_column": null,
            "grid_gap": null,
            "grid_row": null,
            "grid_template_areas": null,
            "grid_template_columns": null,
            "grid_template_rows": null,
            "height": null,
            "justify_content": null,
            "justify_items": null,
            "left": null,
            "margin": null,
            "max_height": null,
            "max_width": null,
            "min_height": null,
            "min_width": null,
            "object_fit": null,
            "object_position": null,
            "order": null,
            "overflow": null,
            "overflow_x": null,
            "overflow_y": null,
            "padding": null,
            "right": null,
            "top": null,
            "visibility": null,
            "width": null
          }
        },
        "2e4a3bfebf384c55be3e462d7377d713": {
          "model_module": "@jupyter-widgets/controls",
          "model_name": "DescriptionStyleModel",
          "model_module_version": "1.5.0",
          "state": {
            "_model_module": "@jupyter-widgets/controls",
            "_model_module_version": "1.5.0",
            "_model_name": "DescriptionStyleModel",
            "_view_count": null,
            "_view_module": "@jupyter-widgets/base",
            "_view_module_version": "1.2.0",
            "_view_name": "StyleView",
            "description_width": ""
          }
        },
        "b69d791105da422ab39f06a8dab6bdd9": {
          "model_module": "@jupyter-widgets/base",
          "model_name": "LayoutModel",
          "model_module_version": "1.2.0",
          "state": {
            "_model_module": "@jupyter-widgets/base",
            "_model_module_version": "1.2.0",
            "_model_name": "LayoutModel",
            "_view_count": null,
            "_view_module": "@jupyter-widgets/base",
            "_view_module_version": "1.2.0",
            "_view_name": "LayoutView",
            "align_content": null,
            "align_items": null,
            "align_self": null,
            "border": null,
            "bottom": null,
            "display": null,
            "flex": null,
            "flex_flow": null,
            "grid_area": null,
            "grid_auto_columns": null,
            "grid_auto_flow": null,
            "grid_auto_rows": null,
            "grid_column": null,
            "grid_gap": null,
            "grid_row": null,
            "grid_template_areas": null,
            "grid_template_columns": null,
            "grid_template_rows": null,
            "height": null,
            "justify_content": null,
            "justify_items": null,
            "left": null,
            "margin": null,
            "max_height": null,
            "max_width": null,
            "min_height": null,
            "min_width": null,
            "object_fit": null,
            "object_position": null,
            "order": null,
            "overflow": null,
            "overflow_x": null,
            "overflow_y": null,
            "padding": null,
            "right": null,
            "top": null,
            "visibility": null,
            "width": null
          }
        },
        "a712f3bd13224916b6fc5c769b0021ef": {
          "model_module": "@jupyter-widgets/controls",
          "model_name": "ProgressStyleModel",
          "model_module_version": "1.5.0",
          "state": {
            "_model_module": "@jupyter-widgets/controls",
            "_model_module_version": "1.5.0",
            "_model_name": "ProgressStyleModel",
            "_view_count": null,
            "_view_module": "@jupyter-widgets/base",
            "_view_module_version": "1.2.0",
            "_view_name": "StyleView",
            "bar_color": null,
            "description_width": ""
          }
        },
        "048fd4c6c74e4587b6db37db7cb2070a": {
          "model_module": "@jupyter-widgets/base",
          "model_name": "LayoutModel",
          "model_module_version": "1.2.0",
          "state": {
            "_model_module": "@jupyter-widgets/base",
            "_model_module_version": "1.2.0",
            "_model_name": "LayoutModel",
            "_view_count": null,
            "_view_module": "@jupyter-widgets/base",
            "_view_module_version": "1.2.0",
            "_view_name": "LayoutView",
            "align_content": null,
            "align_items": null,
            "align_self": null,
            "border": null,
            "bottom": null,
            "display": null,
            "flex": null,
            "flex_flow": null,
            "grid_area": null,
            "grid_auto_columns": null,
            "grid_auto_flow": null,
            "grid_auto_rows": null,
            "grid_column": null,
            "grid_gap": null,
            "grid_row": null,
            "grid_template_areas": null,
            "grid_template_columns": null,
            "grid_template_rows": null,
            "height": null,
            "justify_content": null,
            "justify_items": null,
            "left": null,
            "margin": null,
            "max_height": null,
            "max_width": null,
            "min_height": null,
            "min_width": null,
            "object_fit": null,
            "object_position": null,
            "order": null,
            "overflow": null,
            "overflow_x": null,
            "overflow_y": null,
            "padding": null,
            "right": null,
            "top": null,
            "visibility": null,
            "width": null
          }
        },
        "dfb081b09cc3428c8bb246f3e8fe22a5": {
          "model_module": "@jupyter-widgets/controls",
          "model_name": "DescriptionStyleModel",
          "model_module_version": "1.5.0",
          "state": {
            "_model_module": "@jupyter-widgets/controls",
            "_model_module_version": "1.5.0",
            "_model_name": "DescriptionStyleModel",
            "_view_count": null,
            "_view_module": "@jupyter-widgets/base",
            "_view_module_version": "1.2.0",
            "_view_name": "StyleView",
            "description_width": ""
          }
        },
        "97f0f23e37d14c5dabd3926dd2d95546": {
          "model_module": "@jupyter-widgets/controls",
          "model_name": "HBoxModel",
          "model_module_version": "1.5.0",
          "state": {
            "_dom_classes": [],
            "_model_module": "@jupyter-widgets/controls",
            "_model_module_version": "1.5.0",
            "_model_name": "HBoxModel",
            "_view_count": null,
            "_view_module": "@jupyter-widgets/controls",
            "_view_module_version": "1.5.0",
            "_view_name": "HBoxView",
            "box_style": "",
            "children": [
              "IPY_MODEL_0b7a646d15624e8b983fbb260d7e420c",
              "IPY_MODEL_7949fe62f233400ca3b4980c5cf5b9dd",
              "IPY_MODEL_56d0e126c92a497a8941fbe5bcde2b98"
            ],
            "layout": "IPY_MODEL_0aa7d06a2dd9437f89a1fde5218553d7"
          }
        },
        "0b7a646d15624e8b983fbb260d7e420c": {
          "model_module": "@jupyter-widgets/controls",
          "model_name": "HTMLModel",
          "model_module_version": "1.5.0",
          "state": {
            "_dom_classes": [],
            "_model_module": "@jupyter-widgets/controls",
            "_model_module_version": "1.5.0",
            "_model_name": "HTMLModel",
            "_view_count": null,
            "_view_module": "@jupyter-widgets/controls",
            "_view_module_version": "1.5.0",
            "_view_name": "HTMLView",
            "description": "",
            "description_tooltip": null,
            "layout": "IPY_MODEL_de3a5ddc29364731851709b170d48589",
            "placeholder": "​",
            "style": "IPY_MODEL_bd8f25ac2b624dbfabaf54b54420cf8e",
            "value": "100%"
          }
        },
        "7949fe62f233400ca3b4980c5cf5b9dd": {
          "model_module": "@jupyter-widgets/controls",
          "model_name": "FloatProgressModel",
          "model_module_version": "1.5.0",
          "state": {
            "_dom_classes": [],
            "_model_module": "@jupyter-widgets/controls",
            "_model_module_version": "1.5.0",
            "_model_name": "FloatProgressModel",
            "_view_count": null,
            "_view_module": "@jupyter-widgets/controls",
            "_view_module_version": "1.5.0",
            "_view_name": "ProgressView",
            "bar_style": "success",
            "description": "",
            "description_tooltip": null,
            "layout": "IPY_MODEL_13ea30b87c0c474eb460c65f4cc84ea0",
            "max": 4422102,
            "min": 0,
            "orientation": "horizontal",
            "style": "IPY_MODEL_74ddd09d86c44d78a8a319bb1c36045d",
            "value": 4422102
          }
        },
        "56d0e126c92a497a8941fbe5bcde2b98": {
          "model_module": "@jupyter-widgets/controls",
          "model_name": "HTMLModel",
          "model_module_version": "1.5.0",
          "state": {
            "_dom_classes": [],
            "_model_module": "@jupyter-widgets/controls",
            "_model_module_version": "1.5.0",
            "_model_name": "HTMLModel",
            "_view_count": null,
            "_view_module": "@jupyter-widgets/controls",
            "_view_module_version": "1.5.0",
            "_view_name": "HTMLView",
            "description": "",
            "description_tooltip": null,
            "layout": "IPY_MODEL_b68282cbf77d42e999aff4e58c4f7f71",
            "placeholder": "​",
            "style": "IPY_MODEL_cc1e4b71170645cd9f99e270b163b501",
            "value": " 4422102/4422102 [00:09&lt;00:00, 1466543.67it/s]"
          }
        },
        "0aa7d06a2dd9437f89a1fde5218553d7": {
          "model_module": "@jupyter-widgets/base",
          "model_name": "LayoutModel",
          "model_module_version": "1.2.0",
          "state": {
            "_model_module": "@jupyter-widgets/base",
            "_model_module_version": "1.2.0",
            "_model_name": "LayoutModel",
            "_view_count": null,
            "_view_module": "@jupyter-widgets/base",
            "_view_module_version": "1.2.0",
            "_view_name": "LayoutView",
            "align_content": null,
            "align_items": null,
            "align_self": null,
            "border": null,
            "bottom": null,
            "display": null,
            "flex": null,
            "flex_flow": null,
            "grid_area": null,
            "grid_auto_columns": null,
            "grid_auto_flow": null,
            "grid_auto_rows": null,
            "grid_column": null,
            "grid_gap": null,
            "grid_row": null,
            "grid_template_areas": null,
            "grid_template_columns": null,
            "grid_template_rows": null,
            "height": null,
            "justify_content": null,
            "justify_items": null,
            "left": null,
            "margin": null,
            "max_height": null,
            "max_width": null,
            "min_height": null,
            "min_width": null,
            "object_fit": null,
            "object_position": null,
            "order": null,
            "overflow": null,
            "overflow_x": null,
            "overflow_y": null,
            "padding": null,
            "right": null,
            "top": null,
            "visibility": null,
            "width": null
          }
        },
        "de3a5ddc29364731851709b170d48589": {
          "model_module": "@jupyter-widgets/base",
          "model_name": "LayoutModel",
          "model_module_version": "1.2.0",
          "state": {
            "_model_module": "@jupyter-widgets/base",
            "_model_module_version": "1.2.0",
            "_model_name": "LayoutModel",
            "_view_count": null,
            "_view_module": "@jupyter-widgets/base",
            "_view_module_version": "1.2.0",
            "_view_name": "LayoutView",
            "align_content": null,
            "align_items": null,
            "align_self": null,
            "border": null,
            "bottom": null,
            "display": null,
            "flex": null,
            "flex_flow": null,
            "grid_area": null,
            "grid_auto_columns": null,
            "grid_auto_flow": null,
            "grid_auto_rows": null,
            "grid_column": null,
            "grid_gap": null,
            "grid_row": null,
            "grid_template_areas": null,
            "grid_template_columns": null,
            "grid_template_rows": null,
            "height": null,
            "justify_content": null,
            "justify_items": null,
            "left": null,
            "margin": null,
            "max_height": null,
            "max_width": null,
            "min_height": null,
            "min_width": null,
            "object_fit": null,
            "object_position": null,
            "order": null,
            "overflow": null,
            "overflow_x": null,
            "overflow_y": null,
            "padding": null,
            "right": null,
            "top": null,
            "visibility": null,
            "width": null
          }
        },
        "bd8f25ac2b624dbfabaf54b54420cf8e": {
          "model_module": "@jupyter-widgets/controls",
          "model_name": "DescriptionStyleModel",
          "model_module_version": "1.5.0",
          "state": {
            "_model_module": "@jupyter-widgets/controls",
            "_model_module_version": "1.5.0",
            "_model_name": "DescriptionStyleModel",
            "_view_count": null,
            "_view_module": "@jupyter-widgets/base",
            "_view_module_version": "1.2.0",
            "_view_name": "StyleView",
            "description_width": ""
          }
        },
        "13ea30b87c0c474eb460c65f4cc84ea0": {
          "model_module": "@jupyter-widgets/base",
          "model_name": "LayoutModel",
          "model_module_version": "1.2.0",
          "state": {
            "_model_module": "@jupyter-widgets/base",
            "_model_module_version": "1.2.0",
            "_model_name": "LayoutModel",
            "_view_count": null,
            "_view_module": "@jupyter-widgets/base",
            "_view_module_version": "1.2.0",
            "_view_name": "LayoutView",
            "align_content": null,
            "align_items": null,
            "align_self": null,
            "border": null,
            "bottom": null,
            "display": null,
            "flex": null,
            "flex_flow": null,
            "grid_area": null,
            "grid_auto_columns": null,
            "grid_auto_flow": null,
            "grid_auto_rows": null,
            "grid_column": null,
            "grid_gap": null,
            "grid_row": null,
            "grid_template_areas": null,
            "grid_template_columns": null,
            "grid_template_rows": null,
            "height": null,
            "justify_content": null,
            "justify_items": null,
            "left": null,
            "margin": null,
            "max_height": null,
            "max_width": null,
            "min_height": null,
            "min_width": null,
            "object_fit": null,
            "object_position": null,
            "order": null,
            "overflow": null,
            "overflow_x": null,
            "overflow_y": null,
            "padding": null,
            "right": null,
            "top": null,
            "visibility": null,
            "width": null
          }
        },
        "74ddd09d86c44d78a8a319bb1c36045d": {
          "model_module": "@jupyter-widgets/controls",
          "model_name": "ProgressStyleModel",
          "model_module_version": "1.5.0",
          "state": {
            "_model_module": "@jupyter-widgets/controls",
            "_model_module_version": "1.5.0",
            "_model_name": "ProgressStyleModel",
            "_view_count": null,
            "_view_module": "@jupyter-widgets/base",
            "_view_module_version": "1.2.0",
            "_view_name": "StyleView",
            "bar_color": null,
            "description_width": ""
          }
        },
        "b68282cbf77d42e999aff4e58c4f7f71": {
          "model_module": "@jupyter-widgets/base",
          "model_name": "LayoutModel",
          "model_module_version": "1.2.0",
          "state": {
            "_model_module": "@jupyter-widgets/base",
            "_model_module_version": "1.2.0",
            "_model_name": "LayoutModel",
            "_view_count": null,
            "_view_module": "@jupyter-widgets/base",
            "_view_module_version": "1.2.0",
            "_view_name": "LayoutView",
            "align_content": null,
            "align_items": null,
            "align_self": null,
            "border": null,
            "bottom": null,
            "display": null,
            "flex": null,
            "flex_flow": null,
            "grid_area": null,
            "grid_auto_columns": null,
            "grid_auto_flow": null,
            "grid_auto_rows": null,
            "grid_column": null,
            "grid_gap": null,
            "grid_row": null,
            "grid_template_areas": null,
            "grid_template_columns": null,
            "grid_template_rows": null,
            "height": null,
            "justify_content": null,
            "justify_items": null,
            "left": null,
            "margin": null,
            "max_height": null,
            "max_width": null,
            "min_height": null,
            "min_width": null,
            "object_fit": null,
            "object_position": null,
            "order": null,
            "overflow": null,
            "overflow_x": null,
            "overflow_y": null,
            "padding": null,
            "right": null,
            "top": null,
            "visibility": null,
            "width": null
          }
        },
        "cc1e4b71170645cd9f99e270b163b501": {
          "model_module": "@jupyter-widgets/controls",
          "model_name": "DescriptionStyleModel",
          "model_module_version": "1.5.0",
          "state": {
            "_model_module": "@jupyter-widgets/controls",
            "_model_module_version": "1.5.0",
            "_model_name": "DescriptionStyleModel",
            "_view_count": null,
            "_view_module": "@jupyter-widgets/base",
            "_view_module_version": "1.2.0",
            "_view_name": "StyleView",
            "description_width": ""
          }
        },
        "135966498ef9414f88c546ba60f52d5c": {
          "model_module": "@jupyter-widgets/controls",
          "model_name": "HBoxModel",
          "model_module_version": "1.5.0",
          "state": {
            "_dom_classes": [],
            "_model_module": "@jupyter-widgets/controls",
            "_model_module_version": "1.5.0",
            "_model_name": "HBoxModel",
            "_view_count": null,
            "_view_module": "@jupyter-widgets/controls",
            "_view_module_version": "1.5.0",
            "_view_name": "HBoxView",
            "box_style": "",
            "children": [
              "IPY_MODEL_e464a6d49388441bb130792760dadbfc",
              "IPY_MODEL_5a69b78e1bfa408c84ff7dbc9b41c2cd",
              "IPY_MODEL_a297305bb19a49b6868da0f85dc36a04"
            ],
            "layout": "IPY_MODEL_2051d1e1e6ad4cc093ad94f622246dab"
          }
        },
        "e464a6d49388441bb130792760dadbfc": {
          "model_module": "@jupyter-widgets/controls",
          "model_name": "HTMLModel",
          "model_module_version": "1.5.0",
          "state": {
            "_dom_classes": [],
            "_model_module": "@jupyter-widgets/controls",
            "_model_module_version": "1.5.0",
            "_model_name": "HTMLModel",
            "_view_count": null,
            "_view_module": "@jupyter-widgets/controls",
            "_view_module_version": "1.5.0",
            "_view_name": "HTMLView",
            "description": "",
            "description_tooltip": null,
            "layout": "IPY_MODEL_630d67fead094666aafefcfe40d037a8",
            "placeholder": "​",
            "style": "IPY_MODEL_aac4c195bccb4794918711da4a128296",
            "value": "100%"
          }
        },
        "5a69b78e1bfa408c84ff7dbc9b41c2cd": {
          "model_module": "@jupyter-widgets/controls",
          "model_name": "FloatProgressModel",
          "model_module_version": "1.5.0",
          "state": {
            "_dom_classes": [],
            "_model_module": "@jupyter-widgets/controls",
            "_model_module_version": "1.5.0",
            "_model_name": "FloatProgressModel",
            "_view_count": null,
            "_view_module": "@jupyter-widgets/controls",
            "_view_module_version": "1.5.0",
            "_view_name": "ProgressView",
            "bar_style": "success",
            "description": "",
            "description_tooltip": null,
            "layout": "IPY_MODEL_939f5aaf21ea4138880d31dd6d1459af",
            "max": 5148,
            "min": 0,
            "orientation": "horizontal",
            "style": "IPY_MODEL_4341315b4ad74e23a43475c769ca4aaa",
            "value": 5148
          }
        },
        "a297305bb19a49b6868da0f85dc36a04": {
          "model_module": "@jupyter-widgets/controls",
          "model_name": "HTMLModel",
          "model_module_version": "1.5.0",
          "state": {
            "_dom_classes": [],
            "_model_module": "@jupyter-widgets/controls",
            "_model_module_version": "1.5.0",
            "_model_name": "HTMLModel",
            "_view_count": null,
            "_view_module": "@jupyter-widgets/controls",
            "_view_module_version": "1.5.0",
            "_view_name": "HTMLView",
            "description": "",
            "description_tooltip": null,
            "layout": "IPY_MODEL_04a5e045062845218db58da80c6c5757",
            "placeholder": "​",
            "style": "IPY_MODEL_cfab83b9d69e48a291d941bb49328108",
            "value": " 5148/5148 [00:00&lt;00:00, 199786.05it/s]"
          }
        },
        "2051d1e1e6ad4cc093ad94f622246dab": {
          "model_module": "@jupyter-widgets/base",
          "model_name": "LayoutModel",
          "model_module_version": "1.2.0",
          "state": {
            "_model_module": "@jupyter-widgets/base",
            "_model_module_version": "1.2.0",
            "_model_name": "LayoutModel",
            "_view_count": null,
            "_view_module": "@jupyter-widgets/base",
            "_view_module_version": "1.2.0",
            "_view_name": "LayoutView",
            "align_content": null,
            "align_items": null,
            "align_self": null,
            "border": null,
            "bottom": null,
            "display": null,
            "flex": null,
            "flex_flow": null,
            "grid_area": null,
            "grid_auto_columns": null,
            "grid_auto_flow": null,
            "grid_auto_rows": null,
            "grid_column": null,
            "grid_gap": null,
            "grid_row": null,
            "grid_template_areas": null,
            "grid_template_columns": null,
            "grid_template_rows": null,
            "height": null,
            "justify_content": null,
            "justify_items": null,
            "left": null,
            "margin": null,
            "max_height": null,
            "max_width": null,
            "min_height": null,
            "min_width": null,
            "object_fit": null,
            "object_position": null,
            "order": null,
            "overflow": null,
            "overflow_x": null,
            "overflow_y": null,
            "padding": null,
            "right": null,
            "top": null,
            "visibility": null,
            "width": null
          }
        },
        "630d67fead094666aafefcfe40d037a8": {
          "model_module": "@jupyter-widgets/base",
          "model_name": "LayoutModel",
          "model_module_version": "1.2.0",
          "state": {
            "_model_module": "@jupyter-widgets/base",
            "_model_module_version": "1.2.0",
            "_model_name": "LayoutModel",
            "_view_count": null,
            "_view_module": "@jupyter-widgets/base",
            "_view_module_version": "1.2.0",
            "_view_name": "LayoutView",
            "align_content": null,
            "align_items": null,
            "align_self": null,
            "border": null,
            "bottom": null,
            "display": null,
            "flex": null,
            "flex_flow": null,
            "grid_area": null,
            "grid_auto_columns": null,
            "grid_auto_flow": null,
            "grid_auto_rows": null,
            "grid_column": null,
            "grid_gap": null,
            "grid_row": null,
            "grid_template_areas": null,
            "grid_template_columns": null,
            "grid_template_rows": null,
            "height": null,
            "justify_content": null,
            "justify_items": null,
            "left": null,
            "margin": null,
            "max_height": null,
            "max_width": null,
            "min_height": null,
            "min_width": null,
            "object_fit": null,
            "object_position": null,
            "order": null,
            "overflow": null,
            "overflow_x": null,
            "overflow_y": null,
            "padding": null,
            "right": null,
            "top": null,
            "visibility": null,
            "width": null
          }
        },
        "aac4c195bccb4794918711da4a128296": {
          "model_module": "@jupyter-widgets/controls",
          "model_name": "DescriptionStyleModel",
          "model_module_version": "1.5.0",
          "state": {
            "_model_module": "@jupyter-widgets/controls",
            "_model_module_version": "1.5.0",
            "_model_name": "DescriptionStyleModel",
            "_view_count": null,
            "_view_module": "@jupyter-widgets/base",
            "_view_module_version": "1.2.0",
            "_view_name": "StyleView",
            "description_width": ""
          }
        },
        "939f5aaf21ea4138880d31dd6d1459af": {
          "model_module": "@jupyter-widgets/base",
          "model_name": "LayoutModel",
          "model_module_version": "1.2.0",
          "state": {
            "_model_module": "@jupyter-widgets/base",
            "_model_module_version": "1.2.0",
            "_model_name": "LayoutModel",
            "_view_count": null,
            "_view_module": "@jupyter-widgets/base",
            "_view_module_version": "1.2.0",
            "_view_name": "LayoutView",
            "align_content": null,
            "align_items": null,
            "align_self": null,
            "border": null,
            "bottom": null,
            "display": null,
            "flex": null,
            "flex_flow": null,
            "grid_area": null,
            "grid_auto_columns": null,
            "grid_auto_flow": null,
            "grid_auto_rows": null,
            "grid_column": null,
            "grid_gap": null,
            "grid_row": null,
            "grid_template_areas": null,
            "grid_template_columns": null,
            "grid_template_rows": null,
            "height": null,
            "justify_content": null,
            "justify_items": null,
            "left": null,
            "margin": null,
            "max_height": null,
            "max_width": null,
            "min_height": null,
            "min_width": null,
            "object_fit": null,
            "object_position": null,
            "order": null,
            "overflow": null,
            "overflow_x": null,
            "overflow_y": null,
            "padding": null,
            "right": null,
            "top": null,
            "visibility": null,
            "width": null
          }
        },
        "4341315b4ad74e23a43475c769ca4aaa": {
          "model_module": "@jupyter-widgets/controls",
          "model_name": "ProgressStyleModel",
          "model_module_version": "1.5.0",
          "state": {
            "_model_module": "@jupyter-widgets/controls",
            "_model_module_version": "1.5.0",
            "_model_name": "ProgressStyleModel",
            "_view_count": null,
            "_view_module": "@jupyter-widgets/base",
            "_view_module_version": "1.2.0",
            "_view_name": "StyleView",
            "bar_color": null,
            "description_width": ""
          }
        },
        "04a5e045062845218db58da80c6c5757": {
          "model_module": "@jupyter-widgets/base",
          "model_name": "LayoutModel",
          "model_module_version": "1.2.0",
          "state": {
            "_model_module": "@jupyter-widgets/base",
            "_model_module_version": "1.2.0",
            "_model_name": "LayoutModel",
            "_view_count": null,
            "_view_module": "@jupyter-widgets/base",
            "_view_module_version": "1.2.0",
            "_view_name": "LayoutView",
            "align_content": null,
            "align_items": null,
            "align_self": null,
            "border": null,
            "bottom": null,
            "display": null,
            "flex": null,
            "flex_flow": null,
            "grid_area": null,
            "grid_auto_columns": null,
            "grid_auto_flow": null,
            "grid_auto_rows": null,
            "grid_column": null,
            "grid_gap": null,
            "grid_row": null,
            "grid_template_areas": null,
            "grid_template_columns": null,
            "grid_template_rows": null,
            "height": null,
            "justify_content": null,
            "justify_items": null,
            "left": null,
            "margin": null,
            "max_height": null,
            "max_width": null,
            "min_height": null,
            "min_width": null,
            "object_fit": null,
            "object_position": null,
            "order": null,
            "overflow": null,
            "overflow_x": null,
            "overflow_y": null,
            "padding": null,
            "right": null,
            "top": null,
            "visibility": null,
            "width": null
          }
        },
        "cfab83b9d69e48a291d941bb49328108": {
          "model_module": "@jupyter-widgets/controls",
          "model_name": "DescriptionStyleModel",
          "model_module_version": "1.5.0",
          "state": {
            "_model_module": "@jupyter-widgets/controls",
            "_model_module_version": "1.5.0",
            "_model_name": "DescriptionStyleModel",
            "_view_count": null,
            "_view_module": "@jupyter-widgets/base",
            "_view_module_version": "1.2.0",
            "_view_name": "StyleView",
            "description_width": ""
          }
        }
      }
    }
  },
  "nbformat": 4,
  "nbformat_minor": 0
}